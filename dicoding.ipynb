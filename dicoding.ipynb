{
  "nbformat": 4,
  "nbformat_minor": 0,
  "metadata": {
    "colab": {
      "provenance": [],
      "authorship_tag": "ABX9TyPfPegSRcJM8ZVBIdtNSvAN",
      "include_colab_link": true
    },
    "kernelspec": {
      "name": "python3",
      "display_name": "Python 3"
    },
    "language_info": {
      "name": "python"
    }
  },
  "cells": [
    {
      "cell_type": "markdown",
      "metadata": {
        "id": "view-in-github",
        "colab_type": "text"
      },
      "source": [
        "<a href=\"https://colab.research.google.com/github/kurrnia/Dicoding/blob/main/dicoding.ipynb\" target=\"_parent\"><img src=\"https://colab.research.google.com/assets/colab-badge.svg\" alt=\"Open In Colab\"/></a>"
      ]
    },
    {
      "cell_type": "code",
      "execution_count": null,
      "metadata": {
        "id": "WQ1drClvXdG-"
      },
      "outputs": [],
      "source": [
        "import tensorflow as tf\n",
        "import numpy as np\n",
        "from tensorflow import keras"
      ]
    },
    {
      "cell_type": "code",
      "source": [
        "xs = np.array([1.0,  2.0, 3.0, 4.0, 5.0, 6.0], dtype=float)\n",
        "ys = np.array([4.0, 6.0, 8.0, 10.0, 12.0, 14.0], dtype=float)"
      ],
      "metadata": {
        "id": "qO7dBHfaXxk6"
      },
      "execution_count": null,
      "outputs": []
    },
    {
      "cell_type": "code",
      "source": [
        "model = tf.keras.Sequential([keras.layers.Dense(units=1, input_shape=[1]), keras.layers.Dense(units=8), keras.layers.Dense(units=1)])"
      ],
      "metadata": {
        "id": "P8sWL7g2XxvW"
      },
      "execution_count": null,
      "outputs": []
    },
    {
      "cell_type": "code",
      "source": [
        "model.compile(optimizer='sgd', loss='mean_squared_error')"
      ],
      "metadata": {
        "id": "P-Trx1PgXx2O"
      },
      "execution_count": null,
      "outputs": []
    },
    {
      "cell_type": "code",
      "source": [
        "model.fit(xs, ys, epochs=150)"
      ],
      "metadata": {
        "colab": {
          "base_uri": "https://localhost:8080/"
        },
        "id": "SMKE3aw8XyAe",
        "outputId": "f0795ce9-09f0-4d56-9988-be8ce23730ca"
      },
      "execution_count": null,
      "outputs": [
        {
          "output_type": "stream",
          "name": "stdout",
          "text": [
            "Epoch 1/150\n",
            "1/1 [==============================] - 0s 327ms/step - loss: 120.2007\n",
            "Epoch 2/150\n",
            "1/1 [==============================] - 0s 8ms/step - loss: 3.3187\n",
            "Epoch 3/150\n",
            "1/1 [==============================] - 0s 7ms/step - loss: 10.3262\n",
            "Epoch 4/150\n",
            "1/1 [==============================] - 0s 6ms/step - loss: 42.1519\n",
            "Epoch 5/150\n",
            "1/1 [==============================] - 0s 7ms/step - loss: 1.1450\n",
            "Epoch 6/150\n",
            "1/1 [==============================] - 0s 6ms/step - loss: 3.6978\n",
            "Epoch 7/150\n",
            "1/1 [==============================] - 0s 6ms/step - loss: 9.6565\n",
            "Epoch 8/150\n",
            "1/1 [==============================] - 0s 6ms/step - loss: 36.7771\n",
            "Epoch 9/150\n",
            "1/1 [==============================] - 0s 7ms/step - loss: 1.1608\n",
            "Epoch 10/150\n",
            "1/1 [==============================] - 0s 6ms/step - loss: 3.9118\n",
            "Epoch 11/150\n",
            "1/1 [==============================] - 0s 6ms/step - loss: 9.1869\n",
            "Epoch 12/150\n",
            "1/1 [==============================] - 0s 10ms/step - loss: 33.7679\n",
            "Epoch 13/150\n",
            "1/1 [==============================] - 0s 6ms/step - loss: 1.2913\n",
            "Epoch 14/150\n",
            "1/1 [==============================] - 0s 6ms/step - loss: 4.4636\n",
            "Epoch 15/150\n",
            "1/1 [==============================] - 0s 6ms/step - loss: 9.2974\n",
            "Epoch 16/150\n",
            "1/1 [==============================] - 0s 6ms/step - loss: 33.0139\n",
            "Epoch 17/150\n",
            "1/1 [==============================] - 0s 7ms/step - loss: 0.8379\n",
            "Epoch 18/150\n",
            "1/1 [==============================] - 0s 7ms/step - loss: 2.7566\n",
            "Epoch 19/150\n",
            "1/1 [==============================] - 0s 7ms/step - loss: 6.1899\n",
            "Epoch 20/150\n",
            "1/1 [==============================] - 0s 6ms/step - loss: 22.0237\n",
            "Epoch 21/150\n",
            "1/1 [==============================] - 0s 6ms/step - loss: 6.0045\n",
            "Epoch 22/150\n",
            "1/1 [==============================] - 0s 7ms/step - loss: 21.0097\n",
            "Epoch 23/150\n",
            "1/1 [==============================] - 0s 6ms/step - loss: 5.9819\n",
            "Epoch 24/150\n",
            "1/1 [==============================] - 0s 7ms/step - loss: 20.5689\n",
            "Epoch 25/150\n",
            "1/1 [==============================] - 0s 6ms/step - loss: 5.6366\n",
            "Epoch 26/150\n",
            "1/1 [==============================] - 0s 6ms/step - loss: 19.0846\n",
            "Epoch 27/150\n",
            "1/1 [==============================] - 0s 6ms/step - loss: 5.9691\n",
            "Epoch 28/150\n",
            "1/1 [==============================] - 0s 6ms/step - loss: 19.8344\n",
            "Epoch 29/150\n",
            "1/1 [==============================] - 0s 6ms/step - loss: 5.0002\n",
            "Epoch 30/150\n",
            "1/1 [==============================] - 0s 6ms/step - loss: 16.3998\n",
            "Epoch 31/150\n",
            "1/1 [==============================] - 0s 6ms/step - loss: 6.4402\n",
            "Epoch 32/150\n",
            "1/1 [==============================] - 0s 6ms/step - loss: 20.6530\n",
            "Epoch 33/150\n",
            "1/1 [==============================] - 0s 6ms/step - loss: 3.6680\n",
            "Epoch 34/150\n",
            "1/1 [==============================] - 0s 6ms/step - loss: 11.6216\n",
            "Epoch 35/150\n",
            "1/1 [==============================] - 0s 6ms/step - loss: 7.5390\n",
            "Epoch 36/150\n",
            "1/1 [==============================] - 0s 7ms/step - loss: 23.2906\n",
            "Epoch 37/150\n",
            "1/1 [==============================] - 0s 6ms/step - loss: 1.7601\n",
            "Epoch 38/150\n",
            "1/1 [==============================] - 0s 6ms/step - loss: 5.2653\n",
            "Epoch 39/150\n",
            "1/1 [==============================] - 0s 6ms/step - loss: 6.5036\n",
            "Epoch 40/150\n",
            "1/1 [==============================] - 0s 9ms/step - loss: 19.7079\n",
            "Epoch 41/150\n",
            "1/1 [==============================] - 0s 11ms/step - loss: 2.9506\n",
            "Epoch 42/150\n",
            "1/1 [==============================] - 0s 11ms/step - loss: 8.7434\n",
            "Epoch 43/150\n",
            "1/1 [==============================] - 0s 7ms/step - loss: 6.7802\n",
            "Epoch 44/150\n",
            "1/1 [==============================] - 0s 6ms/step - loss: 19.9756\n",
            "Epoch 45/150\n",
            "1/1 [==============================] - 0s 6ms/step - loss: 2.3493\n",
            "Epoch 46/150\n",
            "1/1 [==============================] - 0s 6ms/step - loss: 6.6840\n",
            "Epoch 47/150\n",
            "1/1 [==============================] - 0s 6ms/step - loss: 6.1869\n",
            "Epoch 48/150\n",
            "1/1 [==============================] - 0s 6ms/step - loss: 17.8177\n",
            "Epoch 49/150\n",
            "1/1 [==============================] - 0s 6ms/step - loss: 2.9139\n",
            "Epoch 50/150\n",
            "1/1 [==============================] - 0s 6ms/step - loss: 8.1375\n",
            "Epoch 51/150\n",
            "1/1 [==============================] - 0s 6ms/step - loss: 5.9052\n",
            "Epoch 52/150\n",
            "1/1 [==============================] - 0s 6ms/step - loss: 16.5978\n",
            "Epoch 53/150\n",
            "1/1 [==============================] - 0s 6ms/step - loss: 3.0577\n",
            "Epoch 54/150\n",
            "1/1 [==============================] - 0s 6ms/step - loss: 8.3245\n",
            "Epoch 55/150\n",
            "1/1 [==============================] - 0s 5ms/step - loss: 5.5191\n",
            "Epoch 56/150\n",
            "1/1 [==============================] - 0s 6ms/step - loss: 15.1438\n",
            "Epoch 57/150\n",
            "1/1 [==============================] - 0s 6ms/step - loss: 3.3123\n",
            "Epoch 58/150\n",
            "1/1 [==============================] - 0s 6ms/step - loss: 8.8211\n",
            "Epoch 59/150\n",
            "1/1 [==============================] - 0s 6ms/step - loss: 5.1248\n",
            "Epoch 60/150\n",
            "1/1 [==============================] - 0s 6ms/step - loss: 13.7252\n",
            "Epoch 61/150\n",
            "1/1 [==============================] - 0s 6ms/step - loss: 3.5440\n",
            "Epoch 62/150\n",
            "1/1 [==============================] - 0s 6ms/step - loss: 9.2431\n",
            "Epoch 63/150\n",
            "1/1 [==============================] - 0s 12ms/step - loss: 4.7437\n",
            "Epoch 64/150\n",
            "1/1 [==============================] - 0s 6ms/step - loss: 12.3987\n",
            "Epoch 65/150\n",
            "1/1 [==============================] - 0s 9ms/step - loss: 3.7233\n",
            "Epoch 66/150\n",
            "1/1 [==============================] - 0s 10ms/step - loss: 9.5169\n",
            "Epoch 67/150\n",
            "1/1 [==============================] - 0s 6ms/step - loss: 4.4053\n",
            "Epoch 68/150\n",
            "1/1 [==============================] - 0s 5ms/step - loss: 11.2394\n",
            "Epoch 69/150\n",
            "1/1 [==============================] - 0s 5ms/step - loss: 3.8245\n",
            "Epoch 70/150\n",
            "1/1 [==============================] - 0s 5ms/step - loss: 9.5851\n",
            "Epoch 71/150\n",
            "1/1 [==============================] - 0s 6ms/step - loss: 4.1348\n",
            "Epoch 72/150\n",
            "1/1 [==============================] - 0s 6ms/step - loss: 10.3069\n",
            "Epoch 73/150\n",
            "1/1 [==============================] - 0s 5ms/step - loss: 3.8426\n",
            "Epoch 74/150\n",
            "1/1 [==============================] - 0s 5ms/step - loss: 9.4453\n",
            "Epoch 75/150\n",
            "1/1 [==============================] - 0s 6ms/step - loss: 3.9368\n",
            "Epoch 76/150\n",
            "1/1 [==============================] - 0s 6ms/step - loss: 9.6026\n",
            "Epoch 77/150\n",
            "1/1 [==============================] - 0s 6ms/step - loss: 3.7973\n",
            "Epoch 78/150\n",
            "1/1 [==============================] - 0s 6ms/step - loss: 9.1578\n",
            "Epoch 79/150\n",
            "1/1 [==============================] - 0s 5ms/step - loss: 3.7937\n",
            "Epoch 80/150\n",
            "1/1 [==============================] - 0s 6ms/step - loss: 9.0699\n",
            "Epoch 81/150\n",
            "1/1 [==============================] - 0s 6ms/step - loss: 3.7182\n",
            "Epoch 82/150\n",
            "1/1 [==============================] - 0s 8ms/step - loss: 8.8030\n",
            "Epoch 83/150\n",
            "1/1 [==============================] - 0s 5ms/step - loss: 3.6814\n",
            "Epoch 84/150\n",
            "1/1 [==============================] - 0s 5ms/step - loss: 8.6397\n",
            "Epoch 85/150\n",
            "1/1 [==============================] - 0s 8ms/step - loss: 3.6278\n",
            "Epoch 86/150\n",
            "1/1 [==============================] - 0s 6ms/step - loss: 8.4388\n",
            "Epoch 87/150\n",
            "1/1 [==============================] - 0s 6ms/step - loss: 3.5836\n",
            "Epoch 88/150\n",
            "1/1 [==============================] - 0s 5ms/step - loss: 8.2659\n",
            "Epoch 89/150\n",
            "1/1 [==============================] - 0s 5ms/step - loss: 3.5370\n",
            "Epoch 90/150\n",
            "1/1 [==============================] - 0s 6ms/step - loss: 8.0915\n",
            "Epoch 91/150\n",
            "1/1 [==============================] - 0s 6ms/step - loss: 3.4930\n",
            "Epoch 92/150\n",
            "1/1 [==============================] - 0s 5ms/step - loss: 7.9273\n",
            "Epoch 93/150\n",
            "1/1 [==============================] - 0s 5ms/step - loss: 3.4496\n",
            "Epoch 94/150\n",
            "1/1 [==============================] - 0s 6ms/step - loss: 7.7683\n",
            "Epoch 95/150\n",
            "1/1 [==============================] - 0s 5ms/step - loss: 3.4074\n",
            "Epoch 96/150\n",
            "1/1 [==============================] - 0s 5ms/step - loss: 7.6158\n",
            "Epoch 97/150\n",
            "1/1 [==============================] - 0s 5ms/step - loss: 3.3661\n",
            "Epoch 98/150\n",
            "1/1 [==============================] - 0s 5ms/step - loss: 7.4690\n",
            "Epoch 99/150\n",
            "1/1 [==============================] - 0s 6ms/step - loss: 3.3259\n",
            "Epoch 100/150\n",
            "1/1 [==============================] - 0s 5ms/step - loss: 7.3276\n",
            "Epoch 101/150\n",
            "1/1 [==============================] - 0s 5ms/step - loss: 3.2866\n",
            "Epoch 102/150\n",
            "1/1 [==============================] - 0s 5ms/step - loss: 7.1914\n",
            "Epoch 103/150\n",
            "1/1 [==============================] - 0s 5ms/step - loss: 3.2482\n",
            "Epoch 104/150\n",
            "1/1 [==============================] - 0s 5ms/step - loss: 7.0602\n",
            "Epoch 105/150\n",
            "1/1 [==============================] - 0s 5ms/step - loss: 3.2107\n",
            "Epoch 106/150\n",
            "1/1 [==============================] - 0s 5ms/step - loss: 6.9336\n",
            "Epoch 107/150\n",
            "1/1 [==============================] - 0s 5ms/step - loss: 3.1741\n",
            "Epoch 108/150\n",
            "1/1 [==============================] - 0s 5ms/step - loss: 6.8115\n",
            "Epoch 109/150\n",
            "1/1 [==============================] - 0s 5ms/step - loss: 3.1383\n",
            "Epoch 110/150\n",
            "1/1 [==============================] - 0s 5ms/step - loss: 6.6936\n",
            "Epoch 111/150\n",
            "1/1 [==============================] - 0s 5ms/step - loss: 3.1032\n",
            "Epoch 112/150\n",
            "1/1 [==============================] - 0s 5ms/step - loss: 6.5797\n",
            "Epoch 113/150\n",
            "1/1 [==============================] - 0s 5ms/step - loss: 3.0690\n",
            "Epoch 114/150\n",
            "1/1 [==============================] - 0s 6ms/step - loss: 6.4695\n",
            "Epoch 115/150\n",
            "1/1 [==============================] - 0s 6ms/step - loss: 3.0355\n",
            "Epoch 116/150\n",
            "1/1 [==============================] - 0s 5ms/step - loss: 6.3630\n",
            "Epoch 117/150\n",
            "1/1 [==============================] - 0s 5ms/step - loss: 3.0027\n",
            "Epoch 118/150\n",
            "1/1 [==============================] - 0s 6ms/step - loss: 6.2599\n",
            "Epoch 119/150\n",
            "1/1 [==============================] - 0s 6ms/step - loss: 2.9706\n",
            "Epoch 120/150\n",
            "1/1 [==============================] - 0s 5ms/step - loss: 6.1601\n",
            "Epoch 121/150\n",
            "1/1 [==============================] - 0s 6ms/step - loss: 2.9392\n",
            "Epoch 122/150\n",
            "1/1 [==============================] - 0s 6ms/step - loss: 6.0634\n",
            "Epoch 123/150\n",
            "1/1 [==============================] - 0s 6ms/step - loss: 2.9084\n",
            "Epoch 124/150\n",
            "1/1 [==============================] - 0s 6ms/step - loss: 5.9696\n",
            "Epoch 125/150\n",
            "1/1 [==============================] - 0s 6ms/step - loss: 2.8782\n",
            "Epoch 126/150\n",
            "1/1 [==============================] - 0s 6ms/step - loss: 5.8786\n",
            "Epoch 127/150\n",
            "1/1 [==============================] - 0s 6ms/step - loss: 2.8486\n",
            "Epoch 128/150\n",
            "1/1 [==============================] - 0s 6ms/step - loss: 5.7904\n",
            "Epoch 129/150\n",
            "1/1 [==============================] - 0s 6ms/step - loss: 2.8196\n",
            "Epoch 130/150\n",
            "1/1 [==============================] - 0s 6ms/step - loss: 5.7046\n",
            "Epoch 131/150\n",
            "1/1 [==============================] - 0s 6ms/step - loss: 2.7912\n",
            "Epoch 132/150\n",
            "1/1 [==============================] - 0s 6ms/step - loss: 5.6213\n",
            "Epoch 133/150\n",
            "1/1 [==============================] - 0s 6ms/step - loss: 2.7633\n",
            "Epoch 134/150\n",
            "1/1 [==============================] - 0s 6ms/step - loss: 5.5403\n",
            "Epoch 135/150\n",
            "1/1 [==============================] - 0s 6ms/step - loss: 2.7359\n",
            "Epoch 136/150\n",
            "1/1 [==============================] - 0s 6ms/step - loss: 5.4615\n",
            "Epoch 137/150\n",
            "1/1 [==============================] - 0s 6ms/step - loss: 2.7091\n",
            "Epoch 138/150\n",
            "1/1 [==============================] - 0s 6ms/step - loss: 5.3849\n",
            "Epoch 139/150\n",
            "1/1 [==============================] - 0s 6ms/step - loss: 2.6827\n",
            "Epoch 140/150\n",
            "1/1 [==============================] - 0s 6ms/step - loss: 5.3102\n",
            "Epoch 141/150\n",
            "1/1 [==============================] - 0s 6ms/step - loss: 2.6568\n",
            "Epoch 142/150\n",
            "1/1 [==============================] - 0s 6ms/step - loss: 5.2375\n",
            "Epoch 143/150\n",
            "1/1 [==============================] - 0s 6ms/step - loss: 2.6313\n",
            "Epoch 144/150\n",
            "1/1 [==============================] - 0s 157ms/step - loss: 5.1665\n",
            "Epoch 145/150\n",
            "1/1 [==============================] - 0s 6ms/step - loss: 2.6063\n",
            "Epoch 146/150\n",
            "1/1 [==============================] - 0s 6ms/step - loss: 5.0974\n",
            "Epoch 147/150\n",
            "1/1 [==============================] - 0s 5ms/step - loss: 2.5817\n",
            "Epoch 148/150\n",
            "1/1 [==============================] - 0s 5ms/step - loss: 5.0299\n",
            "Epoch 149/150\n",
            "1/1 [==============================] - 0s 8ms/step - loss: 2.5575\n",
            "Epoch 150/150\n",
            "1/1 [==============================] - 0s 5ms/step - loss: 4.9640\n"
          ]
        },
        {
          "output_type": "execute_result",
          "data": {
            "text/plain": [
              "<keras.callbacks.History at 0x7f92dd49efa0>"
            ]
          },
          "metadata": {},
          "execution_count": 11
        }
      ]
    },
    {
      "cell_type": "code",
      "source": [
        "print(model.predict([10.0]))"
      ],
      "metadata": {
        "colab": {
          "base_uri": "https://localhost:8080/"
        },
        "id": "9IgpfkhUXyEd",
        "outputId": "7d28e4c8-785f-43d0-8623-2ce0338cf5c1"
      },
      "execution_count": null,
      "outputs": [
        {
          "output_type": "stream",
          "name": "stdout",
          "text": [
            "1/1 [==============================] - 0s 65ms/step\n",
            "[[24.896038]]\n"
          ]
        }
      ]
    },
    {
      "cell_type": "markdown",
      "source": [],
      "metadata": {
        "id": "kLjHUuXxe7ye"
      }
    },
    {
      "cell_type": "code",
      "source": [
        "from google.colab import drive\n",
        "drive.mount('/content/drive')\n",
        "import sys\n",
        "sys.path.append('/content/drive/My Drive/Colab Notebooks/Dicoding py')"
      ],
      "metadata": {
        "colab": {
          "base_uri": "https://localhost:8080/"
        },
        "id": "3hlIUoclgNyH",
        "outputId": "09a38aa5-7a91-4cf3-b837-07baca9f3926"
      },
      "execution_count": 18,
      "outputs": [
        {
          "output_type": "stream",
          "name": "stdout",
          "text": [
            "Mounted at /content/drive\n"
          ]
        }
      ]
    },
    {
      "cell_type": "code",
      "source": [
        "import pandas as pd"
      ],
      "metadata": {
        "id": "2mAS6suZXyIe"
      },
      "execution_count": 16,
      "outputs": []
    },
    {
      "cell_type": "code",
      "source": [
        "df = pd.read_csv('/content/drive/My Drive/Colab Notebooks/Dicoding py/citrus.csv')\n",
        "df.info()"
      ],
      "metadata": {
        "id": "nvlTgvotXyLl",
        "colab": {
          "base_uri": "https://localhost:8080/"
        },
        "outputId": "5c5c8ec6-51d9-4cee-e3ae-36c478dc620b"
      },
      "execution_count": 19,
      "outputs": [
        {
          "output_type": "stream",
          "name": "stdout",
          "text": [
            "<class 'pandas.core.frame.DataFrame'>\n",
            "RangeIndex: 10000 entries, 0 to 9999\n",
            "Data columns (total 6 columns):\n",
            " #   Column    Non-Null Count  Dtype  \n",
            "---  ------    --------------  -----  \n",
            " 0   name      10000 non-null  object \n",
            " 1   diameter  10000 non-null  float64\n",
            " 2   weight    10000 non-null  float64\n",
            " 3   red       10000 non-null  int64  \n",
            " 4   green     10000 non-null  int64  \n",
            " 5   blue      10000 non-null  int64  \n",
            "dtypes: float64(2), int64(3), object(1)\n",
            "memory usage: 468.9+ KB\n"
          ]
        }
      ]
    },
    {
      "cell_type": "code",
      "source": [
        "df.head()"
      ],
      "metadata": {
        "id": "iv1rkX3OXyO1",
        "colab": {
          "base_uri": "https://localhost:8080/",
          "height": 206
        },
        "outputId": "5e67af3f-cd5d-461e-cab1-6d5b6e38c98a"
      },
      "execution_count": 20,
      "outputs": [
        {
          "output_type": "execute_result",
          "data": {
            "text/plain": [
              "     name  diameter  weight  red  green  blue\n",
              "0  orange      2.96   86.76  172     85     2\n",
              "1  orange      3.91   88.05  166     78     3\n",
              "2  orange      4.42   95.17  156     81     2\n",
              "3  orange      4.47   95.60  163     81     4\n",
              "4  orange      4.48   95.76  161     72     9"
            ],
            "text/html": [
              "\n",
              "  <div id=\"df-08d142fb-54cb-42c6-a5e4-e19cc20df6e2\">\n",
              "    <div class=\"colab-df-container\">\n",
              "      <div>\n",
              "<style scoped>\n",
              "    .dataframe tbody tr th:only-of-type {\n",
              "        vertical-align: middle;\n",
              "    }\n",
              "\n",
              "    .dataframe tbody tr th {\n",
              "        vertical-align: top;\n",
              "    }\n",
              "\n",
              "    .dataframe thead th {\n",
              "        text-align: right;\n",
              "    }\n",
              "</style>\n",
              "<table border=\"1\" class=\"dataframe\">\n",
              "  <thead>\n",
              "    <tr style=\"text-align: right;\">\n",
              "      <th></th>\n",
              "      <th>name</th>\n",
              "      <th>diameter</th>\n",
              "      <th>weight</th>\n",
              "      <th>red</th>\n",
              "      <th>green</th>\n",
              "      <th>blue</th>\n",
              "    </tr>\n",
              "  </thead>\n",
              "  <tbody>\n",
              "    <tr>\n",
              "      <th>0</th>\n",
              "      <td>orange</td>\n",
              "      <td>2.96</td>\n",
              "      <td>86.76</td>\n",
              "      <td>172</td>\n",
              "      <td>85</td>\n",
              "      <td>2</td>\n",
              "    </tr>\n",
              "    <tr>\n",
              "      <th>1</th>\n",
              "      <td>orange</td>\n",
              "      <td>3.91</td>\n",
              "      <td>88.05</td>\n",
              "      <td>166</td>\n",
              "      <td>78</td>\n",
              "      <td>3</td>\n",
              "    </tr>\n",
              "    <tr>\n",
              "      <th>2</th>\n",
              "      <td>orange</td>\n",
              "      <td>4.42</td>\n",
              "      <td>95.17</td>\n",
              "      <td>156</td>\n",
              "      <td>81</td>\n",
              "      <td>2</td>\n",
              "    </tr>\n",
              "    <tr>\n",
              "      <th>3</th>\n",
              "      <td>orange</td>\n",
              "      <td>4.47</td>\n",
              "      <td>95.60</td>\n",
              "      <td>163</td>\n",
              "      <td>81</td>\n",
              "      <td>4</td>\n",
              "    </tr>\n",
              "    <tr>\n",
              "      <th>4</th>\n",
              "      <td>orange</td>\n",
              "      <td>4.48</td>\n",
              "      <td>95.76</td>\n",
              "      <td>161</td>\n",
              "      <td>72</td>\n",
              "      <td>9</td>\n",
              "    </tr>\n",
              "  </tbody>\n",
              "</table>\n",
              "</div>\n",
              "      <button class=\"colab-df-convert\" onclick=\"convertToInteractive('df-08d142fb-54cb-42c6-a5e4-e19cc20df6e2')\"\n",
              "              title=\"Convert this dataframe to an interactive table.\"\n",
              "              style=\"display:none;\">\n",
              "        \n",
              "  <svg xmlns=\"http://www.w3.org/2000/svg\" height=\"24px\"viewBox=\"0 0 24 24\"\n",
              "       width=\"24px\">\n",
              "    <path d=\"M0 0h24v24H0V0z\" fill=\"none\"/>\n",
              "    <path d=\"M18.56 5.44l.94 2.06.94-2.06 2.06-.94-2.06-.94-.94-2.06-.94 2.06-2.06.94zm-11 1L8.5 8.5l.94-2.06 2.06-.94-2.06-.94L8.5 2.5l-.94 2.06-2.06.94zm10 10l.94 2.06.94-2.06 2.06-.94-2.06-.94-.94-2.06-.94 2.06-2.06.94z\"/><path d=\"M17.41 7.96l-1.37-1.37c-.4-.4-.92-.59-1.43-.59-.52 0-1.04.2-1.43.59L10.3 9.45l-7.72 7.72c-.78.78-.78 2.05 0 2.83L4 21.41c.39.39.9.59 1.41.59.51 0 1.02-.2 1.41-.59l7.78-7.78 2.81-2.81c.8-.78.8-2.07 0-2.86zM5.41 20L4 18.59l7.72-7.72 1.47 1.35L5.41 20z\"/>\n",
              "  </svg>\n",
              "      </button>\n",
              "      \n",
              "  <style>\n",
              "    .colab-df-container {\n",
              "      display:flex;\n",
              "      flex-wrap:wrap;\n",
              "      gap: 12px;\n",
              "    }\n",
              "\n",
              "    .colab-df-convert {\n",
              "      background-color: #E8F0FE;\n",
              "      border: none;\n",
              "      border-radius: 50%;\n",
              "      cursor: pointer;\n",
              "      display: none;\n",
              "      fill: #1967D2;\n",
              "      height: 32px;\n",
              "      padding: 0 0 0 0;\n",
              "      width: 32px;\n",
              "    }\n",
              "\n",
              "    .colab-df-convert:hover {\n",
              "      background-color: #E2EBFA;\n",
              "      box-shadow: 0px 1px 2px rgba(60, 64, 67, 0.3), 0px 1px 3px 1px rgba(60, 64, 67, 0.15);\n",
              "      fill: #174EA6;\n",
              "    }\n",
              "\n",
              "    [theme=dark] .colab-df-convert {\n",
              "      background-color: #3B4455;\n",
              "      fill: #D2E3FC;\n",
              "    }\n",
              "\n",
              "    [theme=dark] .colab-df-convert:hover {\n",
              "      background-color: #434B5C;\n",
              "      box-shadow: 0px 1px 3px 1px rgba(0, 0, 0, 0.15);\n",
              "      filter: drop-shadow(0px 1px 2px rgba(0, 0, 0, 0.3));\n",
              "      fill: #FFFFFF;\n",
              "    }\n",
              "  </style>\n",
              "\n",
              "      <script>\n",
              "        const buttonEl =\n",
              "          document.querySelector('#df-08d142fb-54cb-42c6-a5e4-e19cc20df6e2 button.colab-df-convert');\n",
              "        buttonEl.style.display =\n",
              "          google.colab.kernel.accessAllowed ? 'block' : 'none';\n",
              "\n",
              "        async function convertToInteractive(key) {\n",
              "          const element = document.querySelector('#df-08d142fb-54cb-42c6-a5e4-e19cc20df6e2');\n",
              "          const dataTable =\n",
              "            await google.colab.kernel.invokeFunction('convertToInteractive',\n",
              "                                                     [key], {});\n",
              "          if (!dataTable) return;\n",
              "\n",
              "          const docLinkHtml = 'Like what you see? Visit the ' +\n",
              "            '<a target=\"_blank\" href=https://colab.research.google.com/notebooks/data_table.ipynb>data table notebook</a>'\n",
              "            + ' to learn more about interactive tables.';\n",
              "          element.innerHTML = '';\n",
              "          dataTable['output_type'] = 'display_data';\n",
              "          await google.colab.output.renderOutput(dataTable, element);\n",
              "          const docLink = document.createElement('div');\n",
              "          docLink.innerHTML = docLinkHtml;\n",
              "          element.appendChild(docLink);\n",
              "        }\n",
              "      </script>\n",
              "    </div>\n",
              "  </div>\n",
              "  "
            ]
          },
          "metadata": {},
          "execution_count": 20
        }
      ]
    },
    {
      "cell_type": "code",
      "source": [
        "df.name[df.name == 'orange'] = 0\n",
        "df.name[df.name == 'grapefruit'] = 1"
      ],
      "metadata": {
        "id": "hB4lciFJXyRt",
        "colab": {
          "base_uri": "https://localhost:8080/"
        },
        "outputId": "b51d6f81-52e0-4c39-c1b4-7311e09d4a8f"
      },
      "execution_count": 21,
      "outputs": [
        {
          "output_type": "stream",
          "name": "stderr",
          "text": [
            "<ipython-input-21-e9c3e7476411>:1: SettingWithCopyWarning: \n",
            "A value is trying to be set on a copy of a slice from a DataFrame\n",
            "\n",
            "See the caveats in the documentation: https://pandas.pydata.org/pandas-docs/stable/user_guide/indexing.html#returning-a-view-versus-a-copy\n",
            "  df.name[df.name == 'orange'] = 0\n",
            "<ipython-input-21-e9c3e7476411>:2: SettingWithCopyWarning: \n",
            "A value is trying to be set on a copy of a slice from a DataFrame\n",
            "\n",
            "See the caveats in the documentation: https://pandas.pydata.org/pandas-docs/stable/user_guide/indexing.html#returning-a-view-versus-a-copy\n",
            "  df.name[df.name == 'grapefruit'] = 1\n"
          ]
        }
      ]
    },
    {
      "cell_type": "code",
      "source": [
        "dataset = df.values"
      ],
      "metadata": {
        "id": "TxMrA9kAhdSd"
      },
      "execution_count": 22,
      "outputs": []
    },
    {
      "cell_type": "code",
      "source": [
        "X = dataset[:,1:6]"
      ],
      "metadata": {
        "id": "DnoFoIHGhddA"
      },
      "execution_count": 23,
      "outputs": []
    },
    {
      "cell_type": "code",
      "source": [
        "y = dataset[:,0]"
      ],
      "metadata": {
        "id": "lsl5BuDmhuHY"
      },
      "execution_count": 24,
      "outputs": []
    },
    {
      "cell_type": "code",
      "source": [
        "from sklearn import preprocessing\n",
        "min_max_scaler = preprocessing.MinMaxScaler()\n",
        "X_scale = min_max_scaler.fit_transform(X)\n",
        "X_scale"
      ],
      "metadata": {
        "colab": {
          "base_uri": "https://localhost:8080/"
        },
        "id": "bC67DDkohuPI",
        "outputId": "77a79785-c888-4857-8691-34d1624aaaab"
      },
      "execution_count": 25,
      "outputs": [
        {
          "output_type": "execute_result",
          "data": {
            "text/plain": [
              "array([[0.        , 0.        , 0.74025974, 0.63529412, 0.        ],\n",
              "       [0.07042254, 0.00738197, 0.66233766, 0.55294118, 0.01851852],\n",
              "       [0.10822832, 0.04812589, 0.53246753, 0.58823529, 0.        ],\n",
              "       ...,\n",
              "       [0.93624907, 0.97133047, 0.68831169, 0.6       , 0.33333333],\n",
              "       [0.96071164, 0.99216023, 0.35064935, 0.48235294, 0.16666667],\n",
              "       [1.        , 1.        , 0.48051948, 0.50588235, 0.        ]])"
            ]
          },
          "metadata": {},
          "execution_count": 25
        }
      ]
    },
    {
      "cell_type": "code",
      "source": [
        "from sklearn.model_selection import train_test_split\n",
        "X_train, X_test, Y_train, Y_test = train_test_split(X_scale, y, test_size=0.3)"
      ],
      "metadata": {
        "id": "tZZpuPI3huWY"
      },
      "execution_count": 27,
      "outputs": []
    },
    {
      "cell_type": "code",
      "source": [
        "import numpy as np\n",
        "\n",
        "Y_train = Y_train.astype(np.float32)\n",
        "Y_test = Y_test.astype(np.float32)"
      ],
      "metadata": {
        "id": "Vtd8SkCNhudw"
      },
      "execution_count": 29,
      "outputs": []
    },
    {
      "cell_type": "code",
      "source": [
        "from keras.models import Sequential\n",
        "from keras.layers import Dense"
      ],
      "metadata": {
        "id": "m2E_T_tjjMlZ"
      },
      "execution_count": 32,
      "outputs": []
    },
    {
      "cell_type": "code",
      "source": [
        "model = Sequential([    \n",
        "                    Dense(32, activation='relu', input_shape=(5,)),    \n",
        "                    Dense(32, activation='relu'),    \n",
        "                    Dense(1, activation='sigmoid'),])"
      ],
      "metadata": {
        "id": "Es0UfHmdjMrx"
      },
      "execution_count": 33,
      "outputs": []
    },
    {
      "cell_type": "code",
      "source": [
        "model.compile(optimizer='sgd',\n",
        "              loss='binary_crossentropy',\n",
        "              metrics=['accuracy'])"
      ],
      "metadata": {
        "id": "kIL6PrJNjMxL"
      },
      "execution_count": 34,
      "outputs": []
    },
    {
      "cell_type": "code",
      "source": [
        "model.fit(X_train, Y_train, epochs=10)"
      ],
      "metadata": {
        "colab": {
          "base_uri": "https://localhost:8080/"
        },
        "id": "1ywVCGDmjM2B",
        "outputId": "76299e35-e66c-4f05-e053-7dda2d7c0b57"
      },
      "execution_count": 35,
      "outputs": [
        {
          "output_type": "stream",
          "name": "stdout",
          "text": [
            "Epoch 1/10\n",
            "219/219 [==============================] - 1s 2ms/step - loss: 0.6629 - accuracy: 0.7746\n",
            "Epoch 2/10\n",
            "219/219 [==============================] - 0s 2ms/step - loss: 0.5960 - accuracy: 0.9087\n",
            "Epoch 3/10\n",
            "219/219 [==============================] - 0s 2ms/step - loss: 0.5197 - accuracy: 0.9177\n",
            "Epoch 4/10\n",
            "219/219 [==============================] - 0s 2ms/step - loss: 0.4253 - accuracy: 0.9239\n",
            "Epoch 5/10\n",
            "219/219 [==============================] - 0s 2ms/step - loss: 0.3373 - accuracy: 0.9247\n",
            "Epoch 6/10\n",
            "219/219 [==============================] - 0s 2ms/step - loss: 0.2768 - accuracy: 0.9239\n",
            "Epoch 7/10\n",
            "219/219 [==============================] - 0s 2ms/step - loss: 0.2407 - accuracy: 0.9249\n",
            "Epoch 8/10\n",
            "219/219 [==============================] - 0s 2ms/step - loss: 0.2196 - accuracy: 0.9257\n",
            "Epoch 9/10\n",
            "219/219 [==============================] - 0s 2ms/step - loss: 0.2071 - accuracy: 0.9246\n",
            "Epoch 10/10\n",
            "219/219 [==============================] - 0s 2ms/step - loss: 0.1994 - accuracy: 0.9259\n"
          ]
        },
        {
          "output_type": "execute_result",
          "data": {
            "text/plain": [
              "<keras.callbacks.History at 0x7f92cf56bc10>"
            ]
          },
          "metadata": {},
          "execution_count": 35
        }
      ]
    },
    {
      "cell_type": "code",
      "source": [
        "model.evaluate(X_test, Y_test)"
      ],
      "metadata": {
        "colab": {
          "base_uri": "https://localhost:8080/"
        },
        "id": "pVnDimmylfVN",
        "outputId": "1c2733bb-0da0-4337-ee4b-270cd829be19"
      },
      "execution_count": 36,
      "outputs": [
        {
          "output_type": "stream",
          "name": "stdout",
          "text": [
            "94/94 [==============================] - 0s 1ms/step - loss: 0.1841 - accuracy: 0.9320\n"
          ]
        },
        {
          "output_type": "execute_result",
          "data": {
            "text/plain": [
              "[0.18411985039710999, 0.9319999814033508]"
            ]
          },
          "metadata": {},
          "execution_count": 36
        }
      ]
    }
  ]
}