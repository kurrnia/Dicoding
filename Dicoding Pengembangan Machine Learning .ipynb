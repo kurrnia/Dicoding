{
  "nbformat": 4,
  "nbformat_minor": 0,
  "metadata": {
    "colab": {
      "provenance": [],
      "authorship_tag": "ABX9TyNuQiPlPEfZs0znKnU0MOJw",
      "include_colab_link": true
    },
    "kernelspec": {
      "name": "python3",
      "display_name": "Python 3"
    },
    "language_info": {
      "name": "python"
    }
  },
  "cells": [
    {
      "cell_type": "markdown",
      "metadata": {
        "id": "view-in-github",
        "colab_type": "text"
      },
      "source": [
        "<a href=\"https://colab.research.google.com/github/kurrnia/Dicoding/blob/main/Dicoding%20Pengembangan%20Machine%20Learning%20.ipynb\" target=\"_parent\"><img src=\"https://colab.research.google.com/assets/colab-badge.svg\" alt=\"Open In Colab\"/></a>"
      ]
    },
    {
      "cell_type": "markdown",
      "source": [
        "# Membuat dan Melatih Model Neural Network dengan Tensorflow dan Keras"
      ],
      "metadata": {
        "id": "EVqy8kXmk3dn"
      }
    },
    {
      "cell_type": "markdown",
      "source": [
        "## Menggunakan Model untuk Melakukan Prediksi"
      ],
      "metadata": {
        "id": "OTwmprK3gVR0"
      }
    },
    {
      "cell_type": "code",
      "execution_count": null,
      "metadata": {
        "id": "WQ1drClvXdG-"
      },
      "outputs": [],
      "source": [
        "import tensorflow as tf\n",
        "import numpy as np\n",
        "from tensorflow import keras"
      ]
    },
    {
      "cell_type": "code",
      "source": [
        "xs = np.array([1.0,  2.0, 3.0, 4.0, 5.0, 6.0], dtype=float)\n",
        "ys = np.array([4.0, 6.0, 8.0, 10.0, 12.0, 14.0], dtype=float)"
      ],
      "metadata": {
        "id": "qO7dBHfaXxk6"
      },
      "execution_count": null,
      "outputs": []
    },
    {
      "cell_type": "code",
      "source": [
        "model = tf.keras.Sequential([keras.layers.Dense(units=1, input_shape=[1]), keras.layers.Dense(units=8), keras.layers.Dense(units=1)])"
      ],
      "metadata": {
        "id": "P8sWL7g2XxvW"
      },
      "execution_count": null,
      "outputs": []
    },
    {
      "cell_type": "code",
      "source": [
        "model.compile(optimizer='sgd', loss='mean_squared_error')"
      ],
      "metadata": {
        "id": "P-Trx1PgXx2O"
      },
      "execution_count": null,
      "outputs": []
    },
    {
      "cell_type": "code",
      "source": [
        "model.fit(xs, ys, epochs=150)"
      ],
      "metadata": {
        "colab": {
          "base_uri": "https://localhost:8080/"
        },
        "id": "SMKE3aw8XyAe",
        "outputId": "f0795ce9-09f0-4d56-9988-be8ce23730ca"
      },
      "execution_count": null,
      "outputs": [
        {
          "output_type": "stream",
          "name": "stdout",
          "text": [
            "Epoch 1/150\n",
            "1/1 [==============================] - 0s 327ms/step - loss: 120.2007\n",
            "Epoch 2/150\n",
            "1/1 [==============================] - 0s 8ms/step - loss: 3.3187\n",
            "Epoch 3/150\n",
            "1/1 [==============================] - 0s 7ms/step - loss: 10.3262\n",
            "Epoch 4/150\n",
            "1/1 [==============================] - 0s 6ms/step - loss: 42.1519\n",
            "Epoch 5/150\n",
            "1/1 [==============================] - 0s 7ms/step - loss: 1.1450\n",
            "Epoch 6/150\n",
            "1/1 [==============================] - 0s 6ms/step - loss: 3.6978\n",
            "Epoch 7/150\n",
            "1/1 [==============================] - 0s 6ms/step - loss: 9.6565\n",
            "Epoch 8/150\n",
            "1/1 [==============================] - 0s 6ms/step - loss: 36.7771\n",
            "Epoch 9/150\n",
            "1/1 [==============================] - 0s 7ms/step - loss: 1.1608\n",
            "Epoch 10/150\n",
            "1/1 [==============================] - 0s 6ms/step - loss: 3.9118\n",
            "Epoch 11/150\n",
            "1/1 [==============================] - 0s 6ms/step - loss: 9.1869\n",
            "Epoch 12/150\n",
            "1/1 [==============================] - 0s 10ms/step - loss: 33.7679\n",
            "Epoch 13/150\n",
            "1/1 [==============================] - 0s 6ms/step - loss: 1.2913\n",
            "Epoch 14/150\n",
            "1/1 [==============================] - 0s 6ms/step - loss: 4.4636\n",
            "Epoch 15/150\n",
            "1/1 [==============================] - 0s 6ms/step - loss: 9.2974\n",
            "Epoch 16/150\n",
            "1/1 [==============================] - 0s 6ms/step - loss: 33.0139\n",
            "Epoch 17/150\n",
            "1/1 [==============================] - 0s 7ms/step - loss: 0.8379\n",
            "Epoch 18/150\n",
            "1/1 [==============================] - 0s 7ms/step - loss: 2.7566\n",
            "Epoch 19/150\n",
            "1/1 [==============================] - 0s 7ms/step - loss: 6.1899\n",
            "Epoch 20/150\n",
            "1/1 [==============================] - 0s 6ms/step - loss: 22.0237\n",
            "Epoch 21/150\n",
            "1/1 [==============================] - 0s 6ms/step - loss: 6.0045\n",
            "Epoch 22/150\n",
            "1/1 [==============================] - 0s 7ms/step - loss: 21.0097\n",
            "Epoch 23/150\n",
            "1/1 [==============================] - 0s 6ms/step - loss: 5.9819\n",
            "Epoch 24/150\n",
            "1/1 [==============================] - 0s 7ms/step - loss: 20.5689\n",
            "Epoch 25/150\n",
            "1/1 [==============================] - 0s 6ms/step - loss: 5.6366\n",
            "Epoch 26/150\n",
            "1/1 [==============================] - 0s 6ms/step - loss: 19.0846\n",
            "Epoch 27/150\n",
            "1/1 [==============================] - 0s 6ms/step - loss: 5.9691\n",
            "Epoch 28/150\n",
            "1/1 [==============================] - 0s 6ms/step - loss: 19.8344\n",
            "Epoch 29/150\n",
            "1/1 [==============================] - 0s 6ms/step - loss: 5.0002\n",
            "Epoch 30/150\n",
            "1/1 [==============================] - 0s 6ms/step - loss: 16.3998\n",
            "Epoch 31/150\n",
            "1/1 [==============================] - 0s 6ms/step - loss: 6.4402\n",
            "Epoch 32/150\n",
            "1/1 [==============================] - 0s 6ms/step - loss: 20.6530\n",
            "Epoch 33/150\n",
            "1/1 [==============================] - 0s 6ms/step - loss: 3.6680\n",
            "Epoch 34/150\n",
            "1/1 [==============================] - 0s 6ms/step - loss: 11.6216\n",
            "Epoch 35/150\n",
            "1/1 [==============================] - 0s 6ms/step - loss: 7.5390\n",
            "Epoch 36/150\n",
            "1/1 [==============================] - 0s 7ms/step - loss: 23.2906\n",
            "Epoch 37/150\n",
            "1/1 [==============================] - 0s 6ms/step - loss: 1.7601\n",
            "Epoch 38/150\n",
            "1/1 [==============================] - 0s 6ms/step - loss: 5.2653\n",
            "Epoch 39/150\n",
            "1/1 [==============================] - 0s 6ms/step - loss: 6.5036\n",
            "Epoch 40/150\n",
            "1/1 [==============================] - 0s 9ms/step - loss: 19.7079\n",
            "Epoch 41/150\n",
            "1/1 [==============================] - 0s 11ms/step - loss: 2.9506\n",
            "Epoch 42/150\n",
            "1/1 [==============================] - 0s 11ms/step - loss: 8.7434\n",
            "Epoch 43/150\n",
            "1/1 [==============================] - 0s 7ms/step - loss: 6.7802\n",
            "Epoch 44/150\n",
            "1/1 [==============================] - 0s 6ms/step - loss: 19.9756\n",
            "Epoch 45/150\n",
            "1/1 [==============================] - 0s 6ms/step - loss: 2.3493\n",
            "Epoch 46/150\n",
            "1/1 [==============================] - 0s 6ms/step - loss: 6.6840\n",
            "Epoch 47/150\n",
            "1/1 [==============================] - 0s 6ms/step - loss: 6.1869\n",
            "Epoch 48/150\n",
            "1/1 [==============================] - 0s 6ms/step - loss: 17.8177\n",
            "Epoch 49/150\n",
            "1/1 [==============================] - 0s 6ms/step - loss: 2.9139\n",
            "Epoch 50/150\n",
            "1/1 [==============================] - 0s 6ms/step - loss: 8.1375\n",
            "Epoch 51/150\n",
            "1/1 [==============================] - 0s 6ms/step - loss: 5.9052\n",
            "Epoch 52/150\n",
            "1/1 [==============================] - 0s 6ms/step - loss: 16.5978\n",
            "Epoch 53/150\n",
            "1/1 [==============================] - 0s 6ms/step - loss: 3.0577\n",
            "Epoch 54/150\n",
            "1/1 [==============================] - 0s 6ms/step - loss: 8.3245\n",
            "Epoch 55/150\n",
            "1/1 [==============================] - 0s 5ms/step - loss: 5.5191\n",
            "Epoch 56/150\n",
            "1/1 [==============================] - 0s 6ms/step - loss: 15.1438\n",
            "Epoch 57/150\n",
            "1/1 [==============================] - 0s 6ms/step - loss: 3.3123\n",
            "Epoch 58/150\n",
            "1/1 [==============================] - 0s 6ms/step - loss: 8.8211\n",
            "Epoch 59/150\n",
            "1/1 [==============================] - 0s 6ms/step - loss: 5.1248\n",
            "Epoch 60/150\n",
            "1/1 [==============================] - 0s 6ms/step - loss: 13.7252\n",
            "Epoch 61/150\n",
            "1/1 [==============================] - 0s 6ms/step - loss: 3.5440\n",
            "Epoch 62/150\n",
            "1/1 [==============================] - 0s 6ms/step - loss: 9.2431\n",
            "Epoch 63/150\n",
            "1/1 [==============================] - 0s 12ms/step - loss: 4.7437\n",
            "Epoch 64/150\n",
            "1/1 [==============================] - 0s 6ms/step - loss: 12.3987\n",
            "Epoch 65/150\n",
            "1/1 [==============================] - 0s 9ms/step - loss: 3.7233\n",
            "Epoch 66/150\n",
            "1/1 [==============================] - 0s 10ms/step - loss: 9.5169\n",
            "Epoch 67/150\n",
            "1/1 [==============================] - 0s 6ms/step - loss: 4.4053\n",
            "Epoch 68/150\n",
            "1/1 [==============================] - 0s 5ms/step - loss: 11.2394\n",
            "Epoch 69/150\n",
            "1/1 [==============================] - 0s 5ms/step - loss: 3.8245\n",
            "Epoch 70/150\n",
            "1/1 [==============================] - 0s 5ms/step - loss: 9.5851\n",
            "Epoch 71/150\n",
            "1/1 [==============================] - 0s 6ms/step - loss: 4.1348\n",
            "Epoch 72/150\n",
            "1/1 [==============================] - 0s 6ms/step - loss: 10.3069\n",
            "Epoch 73/150\n",
            "1/1 [==============================] - 0s 5ms/step - loss: 3.8426\n",
            "Epoch 74/150\n",
            "1/1 [==============================] - 0s 5ms/step - loss: 9.4453\n",
            "Epoch 75/150\n",
            "1/1 [==============================] - 0s 6ms/step - loss: 3.9368\n",
            "Epoch 76/150\n",
            "1/1 [==============================] - 0s 6ms/step - loss: 9.6026\n",
            "Epoch 77/150\n",
            "1/1 [==============================] - 0s 6ms/step - loss: 3.7973\n",
            "Epoch 78/150\n",
            "1/1 [==============================] - 0s 6ms/step - loss: 9.1578\n",
            "Epoch 79/150\n",
            "1/1 [==============================] - 0s 5ms/step - loss: 3.7937\n",
            "Epoch 80/150\n",
            "1/1 [==============================] - 0s 6ms/step - loss: 9.0699\n",
            "Epoch 81/150\n",
            "1/1 [==============================] - 0s 6ms/step - loss: 3.7182\n",
            "Epoch 82/150\n",
            "1/1 [==============================] - 0s 8ms/step - loss: 8.8030\n",
            "Epoch 83/150\n",
            "1/1 [==============================] - 0s 5ms/step - loss: 3.6814\n",
            "Epoch 84/150\n",
            "1/1 [==============================] - 0s 5ms/step - loss: 8.6397\n",
            "Epoch 85/150\n",
            "1/1 [==============================] - 0s 8ms/step - loss: 3.6278\n",
            "Epoch 86/150\n",
            "1/1 [==============================] - 0s 6ms/step - loss: 8.4388\n",
            "Epoch 87/150\n",
            "1/1 [==============================] - 0s 6ms/step - loss: 3.5836\n",
            "Epoch 88/150\n",
            "1/1 [==============================] - 0s 5ms/step - loss: 8.2659\n",
            "Epoch 89/150\n",
            "1/1 [==============================] - 0s 5ms/step - loss: 3.5370\n",
            "Epoch 90/150\n",
            "1/1 [==============================] - 0s 6ms/step - loss: 8.0915\n",
            "Epoch 91/150\n",
            "1/1 [==============================] - 0s 6ms/step - loss: 3.4930\n",
            "Epoch 92/150\n",
            "1/1 [==============================] - 0s 5ms/step - loss: 7.9273\n",
            "Epoch 93/150\n",
            "1/1 [==============================] - 0s 5ms/step - loss: 3.4496\n",
            "Epoch 94/150\n",
            "1/1 [==============================] - 0s 6ms/step - loss: 7.7683\n",
            "Epoch 95/150\n",
            "1/1 [==============================] - 0s 5ms/step - loss: 3.4074\n",
            "Epoch 96/150\n",
            "1/1 [==============================] - 0s 5ms/step - loss: 7.6158\n",
            "Epoch 97/150\n",
            "1/1 [==============================] - 0s 5ms/step - loss: 3.3661\n",
            "Epoch 98/150\n",
            "1/1 [==============================] - 0s 5ms/step - loss: 7.4690\n",
            "Epoch 99/150\n",
            "1/1 [==============================] - 0s 6ms/step - loss: 3.3259\n",
            "Epoch 100/150\n",
            "1/1 [==============================] - 0s 5ms/step - loss: 7.3276\n",
            "Epoch 101/150\n",
            "1/1 [==============================] - 0s 5ms/step - loss: 3.2866\n",
            "Epoch 102/150\n",
            "1/1 [==============================] - 0s 5ms/step - loss: 7.1914\n",
            "Epoch 103/150\n",
            "1/1 [==============================] - 0s 5ms/step - loss: 3.2482\n",
            "Epoch 104/150\n",
            "1/1 [==============================] - 0s 5ms/step - loss: 7.0602\n",
            "Epoch 105/150\n",
            "1/1 [==============================] - 0s 5ms/step - loss: 3.2107\n",
            "Epoch 106/150\n",
            "1/1 [==============================] - 0s 5ms/step - loss: 6.9336\n",
            "Epoch 107/150\n",
            "1/1 [==============================] - 0s 5ms/step - loss: 3.1741\n",
            "Epoch 108/150\n",
            "1/1 [==============================] - 0s 5ms/step - loss: 6.8115\n",
            "Epoch 109/150\n",
            "1/1 [==============================] - 0s 5ms/step - loss: 3.1383\n",
            "Epoch 110/150\n",
            "1/1 [==============================] - 0s 5ms/step - loss: 6.6936\n",
            "Epoch 111/150\n",
            "1/1 [==============================] - 0s 5ms/step - loss: 3.1032\n",
            "Epoch 112/150\n",
            "1/1 [==============================] - 0s 5ms/step - loss: 6.5797\n",
            "Epoch 113/150\n",
            "1/1 [==============================] - 0s 5ms/step - loss: 3.0690\n",
            "Epoch 114/150\n",
            "1/1 [==============================] - 0s 6ms/step - loss: 6.4695\n",
            "Epoch 115/150\n",
            "1/1 [==============================] - 0s 6ms/step - loss: 3.0355\n",
            "Epoch 116/150\n",
            "1/1 [==============================] - 0s 5ms/step - loss: 6.3630\n",
            "Epoch 117/150\n",
            "1/1 [==============================] - 0s 5ms/step - loss: 3.0027\n",
            "Epoch 118/150\n",
            "1/1 [==============================] - 0s 6ms/step - loss: 6.2599\n",
            "Epoch 119/150\n",
            "1/1 [==============================] - 0s 6ms/step - loss: 2.9706\n",
            "Epoch 120/150\n",
            "1/1 [==============================] - 0s 5ms/step - loss: 6.1601\n",
            "Epoch 121/150\n",
            "1/1 [==============================] - 0s 6ms/step - loss: 2.9392\n",
            "Epoch 122/150\n",
            "1/1 [==============================] - 0s 6ms/step - loss: 6.0634\n",
            "Epoch 123/150\n",
            "1/1 [==============================] - 0s 6ms/step - loss: 2.9084\n",
            "Epoch 124/150\n",
            "1/1 [==============================] - 0s 6ms/step - loss: 5.9696\n",
            "Epoch 125/150\n",
            "1/1 [==============================] - 0s 6ms/step - loss: 2.8782\n",
            "Epoch 126/150\n",
            "1/1 [==============================] - 0s 6ms/step - loss: 5.8786\n",
            "Epoch 127/150\n",
            "1/1 [==============================] - 0s 6ms/step - loss: 2.8486\n",
            "Epoch 128/150\n",
            "1/1 [==============================] - 0s 6ms/step - loss: 5.7904\n",
            "Epoch 129/150\n",
            "1/1 [==============================] - 0s 6ms/step - loss: 2.8196\n",
            "Epoch 130/150\n",
            "1/1 [==============================] - 0s 6ms/step - loss: 5.7046\n",
            "Epoch 131/150\n",
            "1/1 [==============================] - 0s 6ms/step - loss: 2.7912\n",
            "Epoch 132/150\n",
            "1/1 [==============================] - 0s 6ms/step - loss: 5.6213\n",
            "Epoch 133/150\n",
            "1/1 [==============================] - 0s 6ms/step - loss: 2.7633\n",
            "Epoch 134/150\n",
            "1/1 [==============================] - 0s 6ms/step - loss: 5.5403\n",
            "Epoch 135/150\n",
            "1/1 [==============================] - 0s 6ms/step - loss: 2.7359\n",
            "Epoch 136/150\n",
            "1/1 [==============================] - 0s 6ms/step - loss: 5.4615\n",
            "Epoch 137/150\n",
            "1/1 [==============================] - 0s 6ms/step - loss: 2.7091\n",
            "Epoch 138/150\n",
            "1/1 [==============================] - 0s 6ms/step - loss: 5.3849\n",
            "Epoch 139/150\n",
            "1/1 [==============================] - 0s 6ms/step - loss: 2.6827\n",
            "Epoch 140/150\n",
            "1/1 [==============================] - 0s 6ms/step - loss: 5.3102\n",
            "Epoch 141/150\n",
            "1/1 [==============================] - 0s 6ms/step - loss: 2.6568\n",
            "Epoch 142/150\n",
            "1/1 [==============================] - 0s 6ms/step - loss: 5.2375\n",
            "Epoch 143/150\n",
            "1/1 [==============================] - 0s 6ms/step - loss: 2.6313\n",
            "Epoch 144/150\n",
            "1/1 [==============================] - 0s 157ms/step - loss: 5.1665\n",
            "Epoch 145/150\n",
            "1/1 [==============================] - 0s 6ms/step - loss: 2.6063\n",
            "Epoch 146/150\n",
            "1/1 [==============================] - 0s 6ms/step - loss: 5.0974\n",
            "Epoch 147/150\n",
            "1/1 [==============================] - 0s 5ms/step - loss: 2.5817\n",
            "Epoch 148/150\n",
            "1/1 [==============================] - 0s 5ms/step - loss: 5.0299\n",
            "Epoch 149/150\n",
            "1/1 [==============================] - 0s 8ms/step - loss: 2.5575\n",
            "Epoch 150/150\n",
            "1/1 [==============================] - 0s 5ms/step - loss: 4.9640\n"
          ]
        },
        {
          "output_type": "execute_result",
          "data": {
            "text/plain": [
              "<keras.callbacks.History at 0x7f92dd49efa0>"
            ]
          },
          "metadata": {},
          "execution_count": 11
        }
      ]
    },
    {
      "cell_type": "code",
      "source": [
        "print(model.predict([10.0]))"
      ],
      "metadata": {
        "colab": {
          "base_uri": "https://localhost:8080/"
        },
        "id": "9IgpfkhUXyEd",
        "outputId": "7d28e4c8-785f-43d0-8623-2ce0338cf5c1"
      },
      "execution_count": null,
      "outputs": [
        {
          "output_type": "stream",
          "name": "stdout",
          "text": [
            "1/1 [==============================] - 0s 65ms/step\n",
            "[[24.896038]]\n"
          ]
        }
      ]
    },
    {
      "cell_type": "markdown",
      "source": [
        "## Membuat Model untuk Klasifikasi Dua Kelas"
      ],
      "metadata": {
        "id": "kLjHUuXxe7ye"
      }
    },
    {
      "cell_type": "code",
      "source": [
        "from google.colab import drive\n",
        "drive.mount('/content/drive')\n",
        "import sys\n",
        "sys.path.append('/content/drive/My Drive/Colab Notebooks/Dicoding py')"
      ],
      "metadata": {
        "colab": {
          "base_uri": "https://localhost:8080/"
        },
        "id": "3hlIUoclgNyH",
        "outputId": "09a38aa5-7a91-4cf3-b837-07baca9f3926"
      },
      "execution_count": null,
      "outputs": [
        {
          "output_type": "stream",
          "name": "stdout",
          "text": [
            "Mounted at /content/drive\n"
          ]
        }
      ]
    },
    {
      "cell_type": "code",
      "source": [
        "import pandas as pd"
      ],
      "metadata": {
        "id": "2mAS6suZXyIe"
      },
      "execution_count": null,
      "outputs": []
    },
    {
      "cell_type": "code",
      "source": [
        "df = pd.read_csv('/content/drive/My Drive/Colab Notebooks/Dicoding py/citrus.csv')\n",
        "df.info()"
      ],
      "metadata": {
        "id": "nvlTgvotXyLl",
        "colab": {
          "base_uri": "https://localhost:8080/"
        },
        "outputId": "5c5c8ec6-51d9-4cee-e3ae-36c478dc620b"
      },
      "execution_count": null,
      "outputs": [
        {
          "output_type": "stream",
          "name": "stdout",
          "text": [
            "<class 'pandas.core.frame.DataFrame'>\n",
            "RangeIndex: 10000 entries, 0 to 9999\n",
            "Data columns (total 6 columns):\n",
            " #   Column    Non-Null Count  Dtype  \n",
            "---  ------    --------------  -----  \n",
            " 0   name      10000 non-null  object \n",
            " 1   diameter  10000 non-null  float64\n",
            " 2   weight    10000 non-null  float64\n",
            " 3   red       10000 non-null  int64  \n",
            " 4   green     10000 non-null  int64  \n",
            " 5   blue      10000 non-null  int64  \n",
            "dtypes: float64(2), int64(3), object(1)\n",
            "memory usage: 468.9+ KB\n"
          ]
        }
      ]
    },
    {
      "cell_type": "code",
      "source": [
        "df.head()"
      ],
      "metadata": {
        "id": "iv1rkX3OXyO1",
        "colab": {
          "base_uri": "https://localhost:8080/",
          "height": 206
        },
        "outputId": "5e67af3f-cd5d-461e-cab1-6d5b6e38c98a"
      },
      "execution_count": null,
      "outputs": [
        {
          "output_type": "execute_result",
          "data": {
            "text/plain": [
              "     name  diameter  weight  red  green  blue\n",
              "0  orange      2.96   86.76  172     85     2\n",
              "1  orange      3.91   88.05  166     78     3\n",
              "2  orange      4.42   95.17  156     81     2\n",
              "3  orange      4.47   95.60  163     81     4\n",
              "4  orange      4.48   95.76  161     72     9"
            ],
            "text/html": [
              "\n",
              "  <div id=\"df-08d142fb-54cb-42c6-a5e4-e19cc20df6e2\">\n",
              "    <div class=\"colab-df-container\">\n",
              "      <div>\n",
              "<style scoped>\n",
              "    .dataframe tbody tr th:only-of-type {\n",
              "        vertical-align: middle;\n",
              "    }\n",
              "\n",
              "    .dataframe tbody tr th {\n",
              "        vertical-align: top;\n",
              "    }\n",
              "\n",
              "    .dataframe thead th {\n",
              "        text-align: right;\n",
              "    }\n",
              "</style>\n",
              "<table border=\"1\" class=\"dataframe\">\n",
              "  <thead>\n",
              "    <tr style=\"text-align: right;\">\n",
              "      <th></th>\n",
              "      <th>name</th>\n",
              "      <th>diameter</th>\n",
              "      <th>weight</th>\n",
              "      <th>red</th>\n",
              "      <th>green</th>\n",
              "      <th>blue</th>\n",
              "    </tr>\n",
              "  </thead>\n",
              "  <tbody>\n",
              "    <tr>\n",
              "      <th>0</th>\n",
              "      <td>orange</td>\n",
              "      <td>2.96</td>\n",
              "      <td>86.76</td>\n",
              "      <td>172</td>\n",
              "      <td>85</td>\n",
              "      <td>2</td>\n",
              "    </tr>\n",
              "    <tr>\n",
              "      <th>1</th>\n",
              "      <td>orange</td>\n",
              "      <td>3.91</td>\n",
              "      <td>88.05</td>\n",
              "      <td>166</td>\n",
              "      <td>78</td>\n",
              "      <td>3</td>\n",
              "    </tr>\n",
              "    <tr>\n",
              "      <th>2</th>\n",
              "      <td>orange</td>\n",
              "      <td>4.42</td>\n",
              "      <td>95.17</td>\n",
              "      <td>156</td>\n",
              "      <td>81</td>\n",
              "      <td>2</td>\n",
              "    </tr>\n",
              "    <tr>\n",
              "      <th>3</th>\n",
              "      <td>orange</td>\n",
              "      <td>4.47</td>\n",
              "      <td>95.60</td>\n",
              "      <td>163</td>\n",
              "      <td>81</td>\n",
              "      <td>4</td>\n",
              "    </tr>\n",
              "    <tr>\n",
              "      <th>4</th>\n",
              "      <td>orange</td>\n",
              "      <td>4.48</td>\n",
              "      <td>95.76</td>\n",
              "      <td>161</td>\n",
              "      <td>72</td>\n",
              "      <td>9</td>\n",
              "    </tr>\n",
              "  </tbody>\n",
              "</table>\n",
              "</div>\n",
              "      <button class=\"colab-df-convert\" onclick=\"convertToInteractive('df-08d142fb-54cb-42c6-a5e4-e19cc20df6e2')\"\n",
              "              title=\"Convert this dataframe to an interactive table.\"\n",
              "              style=\"display:none;\">\n",
              "        \n",
              "  <svg xmlns=\"http://www.w3.org/2000/svg\" height=\"24px\"viewBox=\"0 0 24 24\"\n",
              "       width=\"24px\">\n",
              "    <path d=\"M0 0h24v24H0V0z\" fill=\"none\"/>\n",
              "    <path d=\"M18.56 5.44l.94 2.06.94-2.06 2.06-.94-2.06-.94-.94-2.06-.94 2.06-2.06.94zm-11 1L8.5 8.5l.94-2.06 2.06-.94-2.06-.94L8.5 2.5l-.94 2.06-2.06.94zm10 10l.94 2.06.94-2.06 2.06-.94-2.06-.94-.94-2.06-.94 2.06-2.06.94z\"/><path d=\"M17.41 7.96l-1.37-1.37c-.4-.4-.92-.59-1.43-.59-.52 0-1.04.2-1.43.59L10.3 9.45l-7.72 7.72c-.78.78-.78 2.05 0 2.83L4 21.41c.39.39.9.59 1.41.59.51 0 1.02-.2 1.41-.59l7.78-7.78 2.81-2.81c.8-.78.8-2.07 0-2.86zM5.41 20L4 18.59l7.72-7.72 1.47 1.35L5.41 20z\"/>\n",
              "  </svg>\n",
              "      </button>\n",
              "      \n",
              "  <style>\n",
              "    .colab-df-container {\n",
              "      display:flex;\n",
              "      flex-wrap:wrap;\n",
              "      gap: 12px;\n",
              "    }\n",
              "\n",
              "    .colab-df-convert {\n",
              "      background-color: #E8F0FE;\n",
              "      border: none;\n",
              "      border-radius: 50%;\n",
              "      cursor: pointer;\n",
              "      display: none;\n",
              "      fill: #1967D2;\n",
              "      height: 32px;\n",
              "      padding: 0 0 0 0;\n",
              "      width: 32px;\n",
              "    }\n",
              "\n",
              "    .colab-df-convert:hover {\n",
              "      background-color: #E2EBFA;\n",
              "      box-shadow: 0px 1px 2px rgba(60, 64, 67, 0.3), 0px 1px 3px 1px rgba(60, 64, 67, 0.15);\n",
              "      fill: #174EA6;\n",
              "    }\n",
              "\n",
              "    [theme=dark] .colab-df-convert {\n",
              "      background-color: #3B4455;\n",
              "      fill: #D2E3FC;\n",
              "    }\n",
              "\n",
              "    [theme=dark] .colab-df-convert:hover {\n",
              "      background-color: #434B5C;\n",
              "      box-shadow: 0px 1px 3px 1px rgba(0, 0, 0, 0.15);\n",
              "      filter: drop-shadow(0px 1px 2px rgba(0, 0, 0, 0.3));\n",
              "      fill: #FFFFFF;\n",
              "    }\n",
              "  </style>\n",
              "\n",
              "      <script>\n",
              "        const buttonEl =\n",
              "          document.querySelector('#df-08d142fb-54cb-42c6-a5e4-e19cc20df6e2 button.colab-df-convert');\n",
              "        buttonEl.style.display =\n",
              "          google.colab.kernel.accessAllowed ? 'block' : 'none';\n",
              "\n",
              "        async function convertToInteractive(key) {\n",
              "          const element = document.querySelector('#df-08d142fb-54cb-42c6-a5e4-e19cc20df6e2');\n",
              "          const dataTable =\n",
              "            await google.colab.kernel.invokeFunction('convertToInteractive',\n",
              "                                                     [key], {});\n",
              "          if (!dataTable) return;\n",
              "\n",
              "          const docLinkHtml = 'Like what you see? Visit the ' +\n",
              "            '<a target=\"_blank\" href=https://colab.research.google.com/notebooks/data_table.ipynb>data table notebook</a>'\n",
              "            + ' to learn more about interactive tables.';\n",
              "          element.innerHTML = '';\n",
              "          dataTable['output_type'] = 'display_data';\n",
              "          await google.colab.output.renderOutput(dataTable, element);\n",
              "          const docLink = document.createElement('div');\n",
              "          docLink.innerHTML = docLinkHtml;\n",
              "          element.appendChild(docLink);\n",
              "        }\n",
              "      </script>\n",
              "    </div>\n",
              "  </div>\n",
              "  "
            ]
          },
          "metadata": {},
          "execution_count": 20
        }
      ]
    },
    {
      "cell_type": "code",
      "source": [
        "df.name[df.name == 'orange'] = 0\n",
        "df.name[df.name == 'grapefruit'] = 1"
      ],
      "metadata": {
        "id": "hB4lciFJXyRt",
        "colab": {
          "base_uri": "https://localhost:8080/"
        },
        "outputId": "b51d6f81-52e0-4c39-c1b4-7311e09d4a8f"
      },
      "execution_count": null,
      "outputs": [
        {
          "output_type": "stream",
          "name": "stderr",
          "text": [
            "<ipython-input-21-e9c3e7476411>:1: SettingWithCopyWarning: \n",
            "A value is trying to be set on a copy of a slice from a DataFrame\n",
            "\n",
            "See the caveats in the documentation: https://pandas.pydata.org/pandas-docs/stable/user_guide/indexing.html#returning-a-view-versus-a-copy\n",
            "  df.name[df.name == 'orange'] = 0\n",
            "<ipython-input-21-e9c3e7476411>:2: SettingWithCopyWarning: \n",
            "A value is trying to be set on a copy of a slice from a DataFrame\n",
            "\n",
            "See the caveats in the documentation: https://pandas.pydata.org/pandas-docs/stable/user_guide/indexing.html#returning-a-view-versus-a-copy\n",
            "  df.name[df.name == 'grapefruit'] = 1\n"
          ]
        }
      ]
    },
    {
      "cell_type": "code",
      "source": [
        "dataset = df.values"
      ],
      "metadata": {
        "id": "TxMrA9kAhdSd"
      },
      "execution_count": null,
      "outputs": []
    },
    {
      "cell_type": "code",
      "source": [
        "X = dataset[:,1:6]"
      ],
      "metadata": {
        "id": "DnoFoIHGhddA"
      },
      "execution_count": null,
      "outputs": []
    },
    {
      "cell_type": "code",
      "source": [
        "y = dataset[:,0]"
      ],
      "metadata": {
        "id": "lsl5BuDmhuHY"
      },
      "execution_count": null,
      "outputs": []
    },
    {
      "cell_type": "code",
      "source": [
        "from sklearn import preprocessing\n",
        "min_max_scaler = preprocessing.MinMaxScaler()\n",
        "X_scale = min_max_scaler.fit_transform(X)\n",
        "X_scale"
      ],
      "metadata": {
        "colab": {
          "base_uri": "https://localhost:8080/"
        },
        "id": "bC67DDkohuPI",
        "outputId": "77a79785-c888-4857-8691-34d1624aaaab"
      },
      "execution_count": null,
      "outputs": [
        {
          "output_type": "execute_result",
          "data": {
            "text/plain": [
              "array([[0.        , 0.        , 0.74025974, 0.63529412, 0.        ],\n",
              "       [0.07042254, 0.00738197, 0.66233766, 0.55294118, 0.01851852],\n",
              "       [0.10822832, 0.04812589, 0.53246753, 0.58823529, 0.        ],\n",
              "       ...,\n",
              "       [0.93624907, 0.97133047, 0.68831169, 0.6       , 0.33333333],\n",
              "       [0.96071164, 0.99216023, 0.35064935, 0.48235294, 0.16666667],\n",
              "       [1.        , 1.        , 0.48051948, 0.50588235, 0.        ]])"
            ]
          },
          "metadata": {},
          "execution_count": 25
        }
      ]
    },
    {
      "cell_type": "code",
      "source": [
        "from sklearn.model_selection import train_test_split\n",
        "X_train, X_test, Y_train, Y_test = train_test_split(X_scale, y, test_size=0.3)"
      ],
      "metadata": {
        "id": "tZZpuPI3huWY"
      },
      "execution_count": null,
      "outputs": []
    },
    {
      "cell_type": "code",
      "source": [
        "import numpy as np\n",
        "\n",
        "Y_train = Y_train.astype(np.float32)\n",
        "Y_test = Y_test.astype(np.float32)"
      ],
      "metadata": {
        "id": "Vtd8SkCNhudw"
      },
      "execution_count": null,
      "outputs": []
    },
    {
      "cell_type": "code",
      "source": [
        "from keras.models import Sequential\n",
        "from keras.layers import Dense"
      ],
      "metadata": {
        "id": "m2E_T_tjjMlZ"
      },
      "execution_count": null,
      "outputs": []
    },
    {
      "cell_type": "code",
      "source": [
        "model = Sequential([    \n",
        "                    Dense(32, activation='relu', input_shape=(5,)),    \n",
        "                    Dense(32, activation='relu'),    \n",
        "                    Dense(1, activation='sigmoid'),])"
      ],
      "metadata": {
        "id": "Es0UfHmdjMrx"
      },
      "execution_count": null,
      "outputs": []
    },
    {
      "cell_type": "code",
      "source": [
        "model.compile(optimizer='sgd',\n",
        "              loss='binary_crossentropy',\n",
        "              metrics=['accuracy'])"
      ],
      "metadata": {
        "id": "kIL6PrJNjMxL"
      },
      "execution_count": null,
      "outputs": []
    },
    {
      "cell_type": "code",
      "source": [
        "model.fit(X_train, Y_train, epochs=10)"
      ],
      "metadata": {
        "colab": {
          "base_uri": "https://localhost:8080/"
        },
        "id": "1ywVCGDmjM2B",
        "outputId": "76299e35-e66c-4f05-e053-7dda2d7c0b57"
      },
      "execution_count": null,
      "outputs": [
        {
          "output_type": "stream",
          "name": "stdout",
          "text": [
            "Epoch 1/10\n",
            "219/219 [==============================] - 1s 2ms/step - loss: 0.6629 - accuracy: 0.7746\n",
            "Epoch 2/10\n",
            "219/219 [==============================] - 0s 2ms/step - loss: 0.5960 - accuracy: 0.9087\n",
            "Epoch 3/10\n",
            "219/219 [==============================] - 0s 2ms/step - loss: 0.5197 - accuracy: 0.9177\n",
            "Epoch 4/10\n",
            "219/219 [==============================] - 0s 2ms/step - loss: 0.4253 - accuracy: 0.9239\n",
            "Epoch 5/10\n",
            "219/219 [==============================] - 0s 2ms/step - loss: 0.3373 - accuracy: 0.9247\n",
            "Epoch 6/10\n",
            "219/219 [==============================] - 0s 2ms/step - loss: 0.2768 - accuracy: 0.9239\n",
            "Epoch 7/10\n",
            "219/219 [==============================] - 0s 2ms/step - loss: 0.2407 - accuracy: 0.9249\n",
            "Epoch 8/10\n",
            "219/219 [==============================] - 0s 2ms/step - loss: 0.2196 - accuracy: 0.9257\n",
            "Epoch 9/10\n",
            "219/219 [==============================] - 0s 2ms/step - loss: 0.2071 - accuracy: 0.9246\n",
            "Epoch 10/10\n",
            "219/219 [==============================] - 0s 2ms/step - loss: 0.1994 - accuracy: 0.9259\n"
          ]
        },
        {
          "output_type": "execute_result",
          "data": {
            "text/plain": [
              "<keras.callbacks.History at 0x7f92cf56bc10>"
            ]
          },
          "metadata": {},
          "execution_count": 35
        }
      ]
    },
    {
      "cell_type": "code",
      "source": [
        "model.evaluate(X_test, Y_test)"
      ],
      "metadata": {
        "colab": {
          "base_uri": "https://localhost:8080/"
        },
        "id": "pVnDimmylfVN",
        "outputId": "1c2733bb-0da0-4337-ee4b-270cd829be19"
      },
      "execution_count": null,
      "outputs": [
        {
          "output_type": "stream",
          "name": "stdout",
          "text": [
            "94/94 [==============================] - 0s 1ms/step - loss: 0.1841 - accuracy: 0.9320\n"
          ]
        },
        {
          "output_type": "execute_result",
          "data": {
            "text/plain": [
              "[0.18411985039710999, 0.9319999814033508]"
            ]
          },
          "metadata": {},
          "execution_count": 36
        }
      ]
    },
    {
      "cell_type": "markdown",
      "source": [
        "## Membuat dan Melatih Model untuk Klasifikasi Banyak Kelas"
      ],
      "metadata": {
        "id": "6qSan4gugycg"
      }
    },
    {
      "cell_type": "code",
      "source": [
        "# import library yang akan digunakan\n",
        "import pandas as pd\n",
        "from sklearn import preprocessing\n",
        "from sklearn.model_selection import train_test_split\n",
        "from keras.models import Sequential\n",
        "from keras.layers import Dense"
      ],
      "metadata": {
        "id": "4I58p6-dgxep"
      },
      "execution_count": null,
      "outputs": []
    },
    {
      "cell_type": "code",
      "source": [
        "# berfungsi untuk memanggil dataset dari gdrive\n",
        "from google.colab import drive\n",
        "drive.mount('/content/drive')\n",
        "import sys\n",
        "sys.path.append('/content/drive/My Drive/Colab Notebooks/Dicoding py')"
      ],
      "metadata": {
        "id": "ylZ1YuDDgxxB",
        "outputId": "531618ec-3d05-476e-9e4f-c56c0bbfc2bb",
        "colab": {
          "base_uri": "https://localhost:8080/"
        }
      },
      "execution_count": null,
      "outputs": [
        {
          "output_type": "stream",
          "name": "stdout",
          "text": [
            "Mounted at /content/drive\n"
          ]
        }
      ]
    },
    {
      "cell_type": "code",
      "source": [
        "df = pd.read_csv('/content/drive/My Drive/Colab Notebooks/Dicoding py/Iris.csv')\n",
        "df"
      ],
      "metadata": {
        "id": "QmqoHYY_gx9Q",
        "outputId": "f5213077-e0b5-436f-b865-8059d9223630",
        "colab": {
          "base_uri": "https://localhost:8080/",
          "height": 424
        }
      },
      "execution_count": null,
      "outputs": [
        {
          "output_type": "execute_result",
          "data": {
            "text/plain": [
              "      Id  SepalLengthCm  SepalWidthCm  PetalLengthCm  PetalWidthCm  \\\n",
              "0      1            5.1           3.5            1.4           0.2   \n",
              "1      2            4.9           3.0            1.4           0.2   \n",
              "2      3            4.7           3.2            1.3           0.2   \n",
              "3      4            4.6           3.1            1.5           0.2   \n",
              "4      5            5.0           3.6            1.4           0.2   \n",
              "..   ...            ...           ...            ...           ...   \n",
              "145  146            6.7           3.0            5.2           2.3   \n",
              "146  147            6.3           2.5            5.0           1.9   \n",
              "147  148            6.5           3.0            5.2           2.0   \n",
              "148  149            6.2           3.4            5.4           2.3   \n",
              "149  150            5.9           3.0            5.1           1.8   \n",
              "\n",
              "            Species  \n",
              "0       Iris-setosa  \n",
              "1       Iris-setosa  \n",
              "2       Iris-setosa  \n",
              "3       Iris-setosa  \n",
              "4       Iris-setosa  \n",
              "..              ...  \n",
              "145  Iris-virginica  \n",
              "146  Iris-virginica  \n",
              "147  Iris-virginica  \n",
              "148  Iris-virginica  \n",
              "149  Iris-virginica  \n",
              "\n",
              "[150 rows x 6 columns]"
            ],
            "text/html": [
              "\n",
              "  <div id=\"df-dec21ac8-060d-40f9-b4ce-2b16700f4e95\">\n",
              "    <div class=\"colab-df-container\">\n",
              "      <div>\n",
              "<style scoped>\n",
              "    .dataframe tbody tr th:only-of-type {\n",
              "        vertical-align: middle;\n",
              "    }\n",
              "\n",
              "    .dataframe tbody tr th {\n",
              "        vertical-align: top;\n",
              "    }\n",
              "\n",
              "    .dataframe thead th {\n",
              "        text-align: right;\n",
              "    }\n",
              "</style>\n",
              "<table border=\"1\" class=\"dataframe\">\n",
              "  <thead>\n",
              "    <tr style=\"text-align: right;\">\n",
              "      <th></th>\n",
              "      <th>Id</th>\n",
              "      <th>SepalLengthCm</th>\n",
              "      <th>SepalWidthCm</th>\n",
              "      <th>PetalLengthCm</th>\n",
              "      <th>PetalWidthCm</th>\n",
              "      <th>Species</th>\n",
              "    </tr>\n",
              "  </thead>\n",
              "  <tbody>\n",
              "    <tr>\n",
              "      <th>0</th>\n",
              "      <td>1</td>\n",
              "      <td>5.1</td>\n",
              "      <td>3.5</td>\n",
              "      <td>1.4</td>\n",
              "      <td>0.2</td>\n",
              "      <td>Iris-setosa</td>\n",
              "    </tr>\n",
              "    <tr>\n",
              "      <th>1</th>\n",
              "      <td>2</td>\n",
              "      <td>4.9</td>\n",
              "      <td>3.0</td>\n",
              "      <td>1.4</td>\n",
              "      <td>0.2</td>\n",
              "      <td>Iris-setosa</td>\n",
              "    </tr>\n",
              "    <tr>\n",
              "      <th>2</th>\n",
              "      <td>3</td>\n",
              "      <td>4.7</td>\n",
              "      <td>3.2</td>\n",
              "      <td>1.3</td>\n",
              "      <td>0.2</td>\n",
              "      <td>Iris-setosa</td>\n",
              "    </tr>\n",
              "    <tr>\n",
              "      <th>3</th>\n",
              "      <td>4</td>\n",
              "      <td>4.6</td>\n",
              "      <td>3.1</td>\n",
              "      <td>1.5</td>\n",
              "      <td>0.2</td>\n",
              "      <td>Iris-setosa</td>\n",
              "    </tr>\n",
              "    <tr>\n",
              "      <th>4</th>\n",
              "      <td>5</td>\n",
              "      <td>5.0</td>\n",
              "      <td>3.6</td>\n",
              "      <td>1.4</td>\n",
              "      <td>0.2</td>\n",
              "      <td>Iris-setosa</td>\n",
              "    </tr>\n",
              "    <tr>\n",
              "      <th>...</th>\n",
              "      <td>...</td>\n",
              "      <td>...</td>\n",
              "      <td>...</td>\n",
              "      <td>...</td>\n",
              "      <td>...</td>\n",
              "      <td>...</td>\n",
              "    </tr>\n",
              "    <tr>\n",
              "      <th>145</th>\n",
              "      <td>146</td>\n",
              "      <td>6.7</td>\n",
              "      <td>3.0</td>\n",
              "      <td>5.2</td>\n",
              "      <td>2.3</td>\n",
              "      <td>Iris-virginica</td>\n",
              "    </tr>\n",
              "    <tr>\n",
              "      <th>146</th>\n",
              "      <td>147</td>\n",
              "      <td>6.3</td>\n",
              "      <td>2.5</td>\n",
              "      <td>5.0</td>\n",
              "      <td>1.9</td>\n",
              "      <td>Iris-virginica</td>\n",
              "    </tr>\n",
              "    <tr>\n",
              "      <th>147</th>\n",
              "      <td>148</td>\n",
              "      <td>6.5</td>\n",
              "      <td>3.0</td>\n",
              "      <td>5.2</td>\n",
              "      <td>2.0</td>\n",
              "      <td>Iris-virginica</td>\n",
              "    </tr>\n",
              "    <tr>\n",
              "      <th>148</th>\n",
              "      <td>149</td>\n",
              "      <td>6.2</td>\n",
              "      <td>3.4</td>\n",
              "      <td>5.4</td>\n",
              "      <td>2.3</td>\n",
              "      <td>Iris-virginica</td>\n",
              "    </tr>\n",
              "    <tr>\n",
              "      <th>149</th>\n",
              "      <td>150</td>\n",
              "      <td>5.9</td>\n",
              "      <td>3.0</td>\n",
              "      <td>5.1</td>\n",
              "      <td>1.8</td>\n",
              "      <td>Iris-virginica</td>\n",
              "    </tr>\n",
              "  </tbody>\n",
              "</table>\n",
              "<p>150 rows × 6 columns</p>\n",
              "</div>\n",
              "      <button class=\"colab-df-convert\" onclick=\"convertToInteractive('df-dec21ac8-060d-40f9-b4ce-2b16700f4e95')\"\n",
              "              title=\"Convert this dataframe to an interactive table.\"\n",
              "              style=\"display:none;\">\n",
              "        \n",
              "  <svg xmlns=\"http://www.w3.org/2000/svg\" height=\"24px\"viewBox=\"0 0 24 24\"\n",
              "       width=\"24px\">\n",
              "    <path d=\"M0 0h24v24H0V0z\" fill=\"none\"/>\n",
              "    <path d=\"M18.56 5.44l.94 2.06.94-2.06 2.06-.94-2.06-.94-.94-2.06-.94 2.06-2.06.94zm-11 1L8.5 8.5l.94-2.06 2.06-.94-2.06-.94L8.5 2.5l-.94 2.06-2.06.94zm10 10l.94 2.06.94-2.06 2.06-.94-2.06-.94-.94-2.06-.94 2.06-2.06.94z\"/><path d=\"M17.41 7.96l-1.37-1.37c-.4-.4-.92-.59-1.43-.59-.52 0-1.04.2-1.43.59L10.3 9.45l-7.72 7.72c-.78.78-.78 2.05 0 2.83L4 21.41c.39.39.9.59 1.41.59.51 0 1.02-.2 1.41-.59l7.78-7.78 2.81-2.81c.8-.78.8-2.07 0-2.86zM5.41 20L4 18.59l7.72-7.72 1.47 1.35L5.41 20z\"/>\n",
              "  </svg>\n",
              "      </button>\n",
              "      \n",
              "  <style>\n",
              "    .colab-df-container {\n",
              "      display:flex;\n",
              "      flex-wrap:wrap;\n",
              "      gap: 12px;\n",
              "    }\n",
              "\n",
              "    .colab-df-convert {\n",
              "      background-color: #E8F0FE;\n",
              "      border: none;\n",
              "      border-radius: 50%;\n",
              "      cursor: pointer;\n",
              "      display: none;\n",
              "      fill: #1967D2;\n",
              "      height: 32px;\n",
              "      padding: 0 0 0 0;\n",
              "      width: 32px;\n",
              "    }\n",
              "\n",
              "    .colab-df-convert:hover {\n",
              "      background-color: #E2EBFA;\n",
              "      box-shadow: 0px 1px 2px rgba(60, 64, 67, 0.3), 0px 1px 3px 1px rgba(60, 64, 67, 0.15);\n",
              "      fill: #174EA6;\n",
              "    }\n",
              "\n",
              "    [theme=dark] .colab-df-convert {\n",
              "      background-color: #3B4455;\n",
              "      fill: #D2E3FC;\n",
              "    }\n",
              "\n",
              "    [theme=dark] .colab-df-convert:hover {\n",
              "      background-color: #434B5C;\n",
              "      box-shadow: 0px 1px 3px 1px rgba(0, 0, 0, 0.15);\n",
              "      filter: drop-shadow(0px 1px 2px rgba(0, 0, 0, 0.3));\n",
              "      fill: #FFFFFF;\n",
              "    }\n",
              "  </style>\n",
              "\n",
              "      <script>\n",
              "        const buttonEl =\n",
              "          document.querySelector('#df-dec21ac8-060d-40f9-b4ce-2b16700f4e95 button.colab-df-convert');\n",
              "        buttonEl.style.display =\n",
              "          google.colab.kernel.accessAllowed ? 'block' : 'none';\n",
              "\n",
              "        async function convertToInteractive(key) {\n",
              "          const element = document.querySelector('#df-dec21ac8-060d-40f9-b4ce-2b16700f4e95');\n",
              "          const dataTable =\n",
              "            await google.colab.kernel.invokeFunction('convertToInteractive',\n",
              "                                                     [key], {});\n",
              "          if (!dataTable) return;\n",
              "\n",
              "          const docLinkHtml = 'Like what you see? Visit the ' +\n",
              "            '<a target=\"_blank\" href=https://colab.research.google.com/notebooks/data_table.ipynb>data table notebook</a>'\n",
              "            + ' to learn more about interactive tables.';\n",
              "          element.innerHTML = '';\n",
              "          dataTable['output_type'] = 'display_data';\n",
              "          await google.colab.output.renderOutput(dataTable, element);\n",
              "          const docLink = document.createElement('div');\n",
              "          docLink.innerHTML = docLinkHtml;\n",
              "          element.appendChild(docLink);\n",
              "        }\n",
              "      </script>\n",
              "    </div>\n",
              "  </div>\n",
              "  "
            ]
          },
          "metadata": {},
          "execution_count": 5
        }
      ]
    },
    {
      "cell_type": "code",
      "source": [
        "df = df.drop(columns='Id')"
      ],
      "metadata": {
        "id": "I88Ov0FcmSF7"
      },
      "execution_count": null,
      "outputs": []
    },
    {
      "cell_type": "code",
      "source": [
        "category = pd.get_dummies(df.Species)\n",
        "category"
      ],
      "metadata": {
        "id": "nIW1ZFKTmSPk",
        "outputId": "9452441c-fe4e-42d6-e53f-f4d89a1090a9",
        "colab": {
          "base_uri": "https://localhost:8080/",
          "height": 424
        }
      },
      "execution_count": null,
      "outputs": [
        {
          "output_type": "execute_result",
          "data": {
            "text/plain": [
              "     Iris-setosa  Iris-versicolor  Iris-virginica\n",
              "0              1                0               0\n",
              "1              1                0               0\n",
              "2              1                0               0\n",
              "3              1                0               0\n",
              "4              1                0               0\n",
              "..           ...              ...             ...\n",
              "145            0                0               1\n",
              "146            0                0               1\n",
              "147            0                0               1\n",
              "148            0                0               1\n",
              "149            0                0               1\n",
              "\n",
              "[150 rows x 3 columns]"
            ],
            "text/html": [
              "\n",
              "  <div id=\"df-ead78f58-22f5-4883-aea0-9b1c34f41d62\">\n",
              "    <div class=\"colab-df-container\">\n",
              "      <div>\n",
              "<style scoped>\n",
              "    .dataframe tbody tr th:only-of-type {\n",
              "        vertical-align: middle;\n",
              "    }\n",
              "\n",
              "    .dataframe tbody tr th {\n",
              "        vertical-align: top;\n",
              "    }\n",
              "\n",
              "    .dataframe thead th {\n",
              "        text-align: right;\n",
              "    }\n",
              "</style>\n",
              "<table border=\"1\" class=\"dataframe\">\n",
              "  <thead>\n",
              "    <tr style=\"text-align: right;\">\n",
              "      <th></th>\n",
              "      <th>Iris-setosa</th>\n",
              "      <th>Iris-versicolor</th>\n",
              "      <th>Iris-virginica</th>\n",
              "    </tr>\n",
              "  </thead>\n",
              "  <tbody>\n",
              "    <tr>\n",
              "      <th>0</th>\n",
              "      <td>1</td>\n",
              "      <td>0</td>\n",
              "      <td>0</td>\n",
              "    </tr>\n",
              "    <tr>\n",
              "      <th>1</th>\n",
              "      <td>1</td>\n",
              "      <td>0</td>\n",
              "      <td>0</td>\n",
              "    </tr>\n",
              "    <tr>\n",
              "      <th>2</th>\n",
              "      <td>1</td>\n",
              "      <td>0</td>\n",
              "      <td>0</td>\n",
              "    </tr>\n",
              "    <tr>\n",
              "      <th>3</th>\n",
              "      <td>1</td>\n",
              "      <td>0</td>\n",
              "      <td>0</td>\n",
              "    </tr>\n",
              "    <tr>\n",
              "      <th>4</th>\n",
              "      <td>1</td>\n",
              "      <td>0</td>\n",
              "      <td>0</td>\n",
              "    </tr>\n",
              "    <tr>\n",
              "      <th>...</th>\n",
              "      <td>...</td>\n",
              "      <td>...</td>\n",
              "      <td>...</td>\n",
              "    </tr>\n",
              "    <tr>\n",
              "      <th>145</th>\n",
              "      <td>0</td>\n",
              "      <td>0</td>\n",
              "      <td>1</td>\n",
              "    </tr>\n",
              "    <tr>\n",
              "      <th>146</th>\n",
              "      <td>0</td>\n",
              "      <td>0</td>\n",
              "      <td>1</td>\n",
              "    </tr>\n",
              "    <tr>\n",
              "      <th>147</th>\n",
              "      <td>0</td>\n",
              "      <td>0</td>\n",
              "      <td>1</td>\n",
              "    </tr>\n",
              "    <tr>\n",
              "      <th>148</th>\n",
              "      <td>0</td>\n",
              "      <td>0</td>\n",
              "      <td>1</td>\n",
              "    </tr>\n",
              "    <tr>\n",
              "      <th>149</th>\n",
              "      <td>0</td>\n",
              "      <td>0</td>\n",
              "      <td>1</td>\n",
              "    </tr>\n",
              "  </tbody>\n",
              "</table>\n",
              "<p>150 rows × 3 columns</p>\n",
              "</div>\n",
              "      <button class=\"colab-df-convert\" onclick=\"convertToInteractive('df-ead78f58-22f5-4883-aea0-9b1c34f41d62')\"\n",
              "              title=\"Convert this dataframe to an interactive table.\"\n",
              "              style=\"display:none;\">\n",
              "        \n",
              "  <svg xmlns=\"http://www.w3.org/2000/svg\" height=\"24px\"viewBox=\"0 0 24 24\"\n",
              "       width=\"24px\">\n",
              "    <path d=\"M0 0h24v24H0V0z\" fill=\"none\"/>\n",
              "    <path d=\"M18.56 5.44l.94 2.06.94-2.06 2.06-.94-2.06-.94-.94-2.06-.94 2.06-2.06.94zm-11 1L8.5 8.5l.94-2.06 2.06-.94-2.06-.94L8.5 2.5l-.94 2.06-2.06.94zm10 10l.94 2.06.94-2.06 2.06-.94-2.06-.94-.94-2.06-.94 2.06-2.06.94z\"/><path d=\"M17.41 7.96l-1.37-1.37c-.4-.4-.92-.59-1.43-.59-.52 0-1.04.2-1.43.59L10.3 9.45l-7.72 7.72c-.78.78-.78 2.05 0 2.83L4 21.41c.39.39.9.59 1.41.59.51 0 1.02-.2 1.41-.59l7.78-7.78 2.81-2.81c.8-.78.8-2.07 0-2.86zM5.41 20L4 18.59l7.72-7.72 1.47 1.35L5.41 20z\"/>\n",
              "  </svg>\n",
              "      </button>\n",
              "      \n",
              "  <style>\n",
              "    .colab-df-container {\n",
              "      display:flex;\n",
              "      flex-wrap:wrap;\n",
              "      gap: 12px;\n",
              "    }\n",
              "\n",
              "    .colab-df-convert {\n",
              "      background-color: #E8F0FE;\n",
              "      border: none;\n",
              "      border-radius: 50%;\n",
              "      cursor: pointer;\n",
              "      display: none;\n",
              "      fill: #1967D2;\n",
              "      height: 32px;\n",
              "      padding: 0 0 0 0;\n",
              "      width: 32px;\n",
              "    }\n",
              "\n",
              "    .colab-df-convert:hover {\n",
              "      background-color: #E2EBFA;\n",
              "      box-shadow: 0px 1px 2px rgba(60, 64, 67, 0.3), 0px 1px 3px 1px rgba(60, 64, 67, 0.15);\n",
              "      fill: #174EA6;\n",
              "    }\n",
              "\n",
              "    [theme=dark] .colab-df-convert {\n",
              "      background-color: #3B4455;\n",
              "      fill: #D2E3FC;\n",
              "    }\n",
              "\n",
              "    [theme=dark] .colab-df-convert:hover {\n",
              "      background-color: #434B5C;\n",
              "      box-shadow: 0px 1px 3px 1px rgba(0, 0, 0, 0.15);\n",
              "      filter: drop-shadow(0px 1px 2px rgba(0, 0, 0, 0.3));\n",
              "      fill: #FFFFFF;\n",
              "    }\n",
              "  </style>\n",
              "\n",
              "      <script>\n",
              "        const buttonEl =\n",
              "          document.querySelector('#df-ead78f58-22f5-4883-aea0-9b1c34f41d62 button.colab-df-convert');\n",
              "        buttonEl.style.display =\n",
              "          google.colab.kernel.accessAllowed ? 'block' : 'none';\n",
              "\n",
              "        async function convertToInteractive(key) {\n",
              "          const element = document.querySelector('#df-ead78f58-22f5-4883-aea0-9b1c34f41d62');\n",
              "          const dataTable =\n",
              "            await google.colab.kernel.invokeFunction('convertToInteractive',\n",
              "                                                     [key], {});\n",
              "          if (!dataTable) return;\n",
              "\n",
              "          const docLinkHtml = 'Like what you see? Visit the ' +\n",
              "            '<a target=\"_blank\" href=https://colab.research.google.com/notebooks/data_table.ipynb>data table notebook</a>'\n",
              "            + ' to learn more about interactive tables.';\n",
              "          element.innerHTML = '';\n",
              "          dataTable['output_type'] = 'display_data';\n",
              "          await google.colab.output.renderOutput(dataTable, element);\n",
              "          const docLink = document.createElement('div');\n",
              "          docLink.innerHTML = docLinkHtml;\n",
              "          element.appendChild(docLink);\n",
              "        }\n",
              "      </script>\n",
              "    </div>\n",
              "  </div>\n",
              "  "
            ]
          },
          "metadata": {},
          "execution_count": 7
        }
      ]
    },
    {
      "cell_type": "code",
      "source": [
        "new_df = pd.concat([df, category], axis=1)\n",
        "new_df = new_df.drop(columns='Species')\n",
        "new_df"
      ],
      "metadata": {
        "id": "opyGuQWOmSXa",
        "outputId": "7c46268e-6ef8-4f61-a037-1cbc0be36524",
        "colab": {
          "base_uri": "https://localhost:8080/",
          "height": 424
        }
      },
      "execution_count": null,
      "outputs": [
        {
          "output_type": "execute_result",
          "data": {
            "text/plain": [
              "     SepalLengthCm  SepalWidthCm  PetalLengthCm  PetalWidthCm  Iris-setosa  \\\n",
              "0              5.1           3.5            1.4           0.2            1   \n",
              "1              4.9           3.0            1.4           0.2            1   \n",
              "2              4.7           3.2            1.3           0.2            1   \n",
              "3              4.6           3.1            1.5           0.2            1   \n",
              "4              5.0           3.6            1.4           0.2            1   \n",
              "..             ...           ...            ...           ...          ...   \n",
              "145            6.7           3.0            5.2           2.3            0   \n",
              "146            6.3           2.5            5.0           1.9            0   \n",
              "147            6.5           3.0            5.2           2.0            0   \n",
              "148            6.2           3.4            5.4           2.3            0   \n",
              "149            5.9           3.0            5.1           1.8            0   \n",
              "\n",
              "     Iris-versicolor  Iris-virginica  \n",
              "0                  0               0  \n",
              "1                  0               0  \n",
              "2                  0               0  \n",
              "3                  0               0  \n",
              "4                  0               0  \n",
              "..               ...             ...  \n",
              "145                0               1  \n",
              "146                0               1  \n",
              "147                0               1  \n",
              "148                0               1  \n",
              "149                0               1  \n",
              "\n",
              "[150 rows x 7 columns]"
            ],
            "text/html": [
              "\n",
              "  <div id=\"df-e16c9b7a-5abf-4adc-abbf-3d271345f1f0\">\n",
              "    <div class=\"colab-df-container\">\n",
              "      <div>\n",
              "<style scoped>\n",
              "    .dataframe tbody tr th:only-of-type {\n",
              "        vertical-align: middle;\n",
              "    }\n",
              "\n",
              "    .dataframe tbody tr th {\n",
              "        vertical-align: top;\n",
              "    }\n",
              "\n",
              "    .dataframe thead th {\n",
              "        text-align: right;\n",
              "    }\n",
              "</style>\n",
              "<table border=\"1\" class=\"dataframe\">\n",
              "  <thead>\n",
              "    <tr style=\"text-align: right;\">\n",
              "      <th></th>\n",
              "      <th>SepalLengthCm</th>\n",
              "      <th>SepalWidthCm</th>\n",
              "      <th>PetalLengthCm</th>\n",
              "      <th>PetalWidthCm</th>\n",
              "      <th>Iris-setosa</th>\n",
              "      <th>Iris-versicolor</th>\n",
              "      <th>Iris-virginica</th>\n",
              "    </tr>\n",
              "  </thead>\n",
              "  <tbody>\n",
              "    <tr>\n",
              "      <th>0</th>\n",
              "      <td>5.1</td>\n",
              "      <td>3.5</td>\n",
              "      <td>1.4</td>\n",
              "      <td>0.2</td>\n",
              "      <td>1</td>\n",
              "      <td>0</td>\n",
              "      <td>0</td>\n",
              "    </tr>\n",
              "    <tr>\n",
              "      <th>1</th>\n",
              "      <td>4.9</td>\n",
              "      <td>3.0</td>\n",
              "      <td>1.4</td>\n",
              "      <td>0.2</td>\n",
              "      <td>1</td>\n",
              "      <td>0</td>\n",
              "      <td>0</td>\n",
              "    </tr>\n",
              "    <tr>\n",
              "      <th>2</th>\n",
              "      <td>4.7</td>\n",
              "      <td>3.2</td>\n",
              "      <td>1.3</td>\n",
              "      <td>0.2</td>\n",
              "      <td>1</td>\n",
              "      <td>0</td>\n",
              "      <td>0</td>\n",
              "    </tr>\n",
              "    <tr>\n",
              "      <th>3</th>\n",
              "      <td>4.6</td>\n",
              "      <td>3.1</td>\n",
              "      <td>1.5</td>\n",
              "      <td>0.2</td>\n",
              "      <td>1</td>\n",
              "      <td>0</td>\n",
              "      <td>0</td>\n",
              "    </tr>\n",
              "    <tr>\n",
              "      <th>4</th>\n",
              "      <td>5.0</td>\n",
              "      <td>3.6</td>\n",
              "      <td>1.4</td>\n",
              "      <td>0.2</td>\n",
              "      <td>1</td>\n",
              "      <td>0</td>\n",
              "      <td>0</td>\n",
              "    </tr>\n",
              "    <tr>\n",
              "      <th>...</th>\n",
              "      <td>...</td>\n",
              "      <td>...</td>\n",
              "      <td>...</td>\n",
              "      <td>...</td>\n",
              "      <td>...</td>\n",
              "      <td>...</td>\n",
              "      <td>...</td>\n",
              "    </tr>\n",
              "    <tr>\n",
              "      <th>145</th>\n",
              "      <td>6.7</td>\n",
              "      <td>3.0</td>\n",
              "      <td>5.2</td>\n",
              "      <td>2.3</td>\n",
              "      <td>0</td>\n",
              "      <td>0</td>\n",
              "      <td>1</td>\n",
              "    </tr>\n",
              "    <tr>\n",
              "      <th>146</th>\n",
              "      <td>6.3</td>\n",
              "      <td>2.5</td>\n",
              "      <td>5.0</td>\n",
              "      <td>1.9</td>\n",
              "      <td>0</td>\n",
              "      <td>0</td>\n",
              "      <td>1</td>\n",
              "    </tr>\n",
              "    <tr>\n",
              "      <th>147</th>\n",
              "      <td>6.5</td>\n",
              "      <td>3.0</td>\n",
              "      <td>5.2</td>\n",
              "      <td>2.0</td>\n",
              "      <td>0</td>\n",
              "      <td>0</td>\n",
              "      <td>1</td>\n",
              "    </tr>\n",
              "    <tr>\n",
              "      <th>148</th>\n",
              "      <td>6.2</td>\n",
              "      <td>3.4</td>\n",
              "      <td>5.4</td>\n",
              "      <td>2.3</td>\n",
              "      <td>0</td>\n",
              "      <td>0</td>\n",
              "      <td>1</td>\n",
              "    </tr>\n",
              "    <tr>\n",
              "      <th>149</th>\n",
              "      <td>5.9</td>\n",
              "      <td>3.0</td>\n",
              "      <td>5.1</td>\n",
              "      <td>1.8</td>\n",
              "      <td>0</td>\n",
              "      <td>0</td>\n",
              "      <td>1</td>\n",
              "    </tr>\n",
              "  </tbody>\n",
              "</table>\n",
              "<p>150 rows × 7 columns</p>\n",
              "</div>\n",
              "      <button class=\"colab-df-convert\" onclick=\"convertToInteractive('df-e16c9b7a-5abf-4adc-abbf-3d271345f1f0')\"\n",
              "              title=\"Convert this dataframe to an interactive table.\"\n",
              "              style=\"display:none;\">\n",
              "        \n",
              "  <svg xmlns=\"http://www.w3.org/2000/svg\" height=\"24px\"viewBox=\"0 0 24 24\"\n",
              "       width=\"24px\">\n",
              "    <path d=\"M0 0h24v24H0V0z\" fill=\"none\"/>\n",
              "    <path d=\"M18.56 5.44l.94 2.06.94-2.06 2.06-.94-2.06-.94-.94-2.06-.94 2.06-2.06.94zm-11 1L8.5 8.5l.94-2.06 2.06-.94-2.06-.94L8.5 2.5l-.94 2.06-2.06.94zm10 10l.94 2.06.94-2.06 2.06-.94-2.06-.94-.94-2.06-.94 2.06-2.06.94z\"/><path d=\"M17.41 7.96l-1.37-1.37c-.4-.4-.92-.59-1.43-.59-.52 0-1.04.2-1.43.59L10.3 9.45l-7.72 7.72c-.78.78-.78 2.05 0 2.83L4 21.41c.39.39.9.59 1.41.59.51 0 1.02-.2 1.41-.59l7.78-7.78 2.81-2.81c.8-.78.8-2.07 0-2.86zM5.41 20L4 18.59l7.72-7.72 1.47 1.35L5.41 20z\"/>\n",
              "  </svg>\n",
              "      </button>\n",
              "      \n",
              "  <style>\n",
              "    .colab-df-container {\n",
              "      display:flex;\n",
              "      flex-wrap:wrap;\n",
              "      gap: 12px;\n",
              "    }\n",
              "\n",
              "    .colab-df-convert {\n",
              "      background-color: #E8F0FE;\n",
              "      border: none;\n",
              "      border-radius: 50%;\n",
              "      cursor: pointer;\n",
              "      display: none;\n",
              "      fill: #1967D2;\n",
              "      height: 32px;\n",
              "      padding: 0 0 0 0;\n",
              "      width: 32px;\n",
              "    }\n",
              "\n",
              "    .colab-df-convert:hover {\n",
              "      background-color: #E2EBFA;\n",
              "      box-shadow: 0px 1px 2px rgba(60, 64, 67, 0.3), 0px 1px 3px 1px rgba(60, 64, 67, 0.15);\n",
              "      fill: #174EA6;\n",
              "    }\n",
              "\n",
              "    [theme=dark] .colab-df-convert {\n",
              "      background-color: #3B4455;\n",
              "      fill: #D2E3FC;\n",
              "    }\n",
              "\n",
              "    [theme=dark] .colab-df-convert:hover {\n",
              "      background-color: #434B5C;\n",
              "      box-shadow: 0px 1px 3px 1px rgba(0, 0, 0, 0.15);\n",
              "      filter: drop-shadow(0px 1px 2px rgba(0, 0, 0, 0.3));\n",
              "      fill: #FFFFFF;\n",
              "    }\n",
              "  </style>\n",
              "\n",
              "      <script>\n",
              "        const buttonEl =\n",
              "          document.querySelector('#df-e16c9b7a-5abf-4adc-abbf-3d271345f1f0 button.colab-df-convert');\n",
              "        buttonEl.style.display =\n",
              "          google.colab.kernel.accessAllowed ? 'block' : 'none';\n",
              "\n",
              "        async function convertToInteractive(key) {\n",
              "          const element = document.querySelector('#df-e16c9b7a-5abf-4adc-abbf-3d271345f1f0');\n",
              "          const dataTable =\n",
              "            await google.colab.kernel.invokeFunction('convertToInteractive',\n",
              "                                                     [key], {});\n",
              "          if (!dataTable) return;\n",
              "\n",
              "          const docLinkHtml = 'Like what you see? Visit the ' +\n",
              "            '<a target=\"_blank\" href=https://colab.research.google.com/notebooks/data_table.ipynb>data table notebook</a>'\n",
              "            + ' to learn more about interactive tables.';\n",
              "          element.innerHTML = '';\n",
              "          dataTable['output_type'] = 'display_data';\n",
              "          await google.colab.output.renderOutput(dataTable, element);\n",
              "          const docLink = document.createElement('div');\n",
              "          docLink.innerHTML = docLinkHtml;\n",
              "          element.appendChild(docLink);\n",
              "        }\n",
              "      </script>\n",
              "    </div>\n",
              "  </div>\n",
              "  "
            ]
          },
          "metadata": {},
          "execution_count": 8
        }
      ]
    },
    {
      "cell_type": "code",
      "source": [
        "dataset = new_df.values\n",
        "dataset"
      ],
      "metadata": {
        "id": "_CiK2toImSb5",
        "outputId": "2e2d4da0-6c84-4de6-b521-98ea93382f2d",
        "colab": {
          "base_uri": "https://localhost:8080/"
        }
      },
      "execution_count": null,
      "outputs": [
        {
          "output_type": "execute_result",
          "data": {
            "text/plain": [
              "array([[5.1, 3.5, 1.4, ..., 1. , 0. , 0. ],\n",
              "       [4.9, 3. , 1.4, ..., 1. , 0. , 0. ],\n",
              "       [4.7, 3.2, 1.3, ..., 1. , 0. , 0. ],\n",
              "       ...,\n",
              "       [6.5, 3. , 5.2, ..., 0. , 0. , 1. ],\n",
              "       [6.2, 3.4, 5.4, ..., 0. , 0. , 1. ],\n",
              "       [5.9, 3. , 5.1, ..., 0. , 0. , 1. ]])"
            ]
          },
          "metadata": {},
          "execution_count": 9
        }
      ]
    },
    {
      "cell_type": "code",
      "source": [
        "# Pilih 4 kolom pertama untuk dijadikan sebagai atribut\n",
        "X = dataset[:,0:4]\n",
        "# Pilih 3 kolom terakhir sebagai label\n",
        "y = dataset[:,4:7]"
      ],
      "metadata": {
        "id": "SFQFU_GvmSfx"
      },
      "execution_count": null,
      "outputs": []
    },
    {
      "cell_type": "code",
      "source": [
        "# Normalize\n",
        "min_max_scaler = preprocessing.MinMaxScaler()\n",
        "X_scale = min_max_scaler.fit_transform(X)\n",
        "X_scale"
      ],
      "metadata": {
        "id": "vSLQq-PJmSjF",
        "outputId": "8bba0d5d-e420-421c-eded-074bda5f2d0e",
        "colab": {
          "base_uri": "https://localhost:8080/"
        }
      },
      "execution_count": null,
      "outputs": [
        {
          "output_type": "execute_result",
          "data": {
            "text/plain": [
              "array([[0.22222222, 0.625     , 0.06779661, 0.04166667],\n",
              "       [0.16666667, 0.41666667, 0.06779661, 0.04166667],\n",
              "       [0.11111111, 0.5       , 0.05084746, 0.04166667],\n",
              "       [0.08333333, 0.45833333, 0.08474576, 0.04166667],\n",
              "       [0.19444444, 0.66666667, 0.06779661, 0.04166667],\n",
              "       [0.30555556, 0.79166667, 0.11864407, 0.125     ],\n",
              "       [0.08333333, 0.58333333, 0.06779661, 0.08333333],\n",
              "       [0.19444444, 0.58333333, 0.08474576, 0.04166667],\n",
              "       [0.02777778, 0.375     , 0.06779661, 0.04166667],\n",
              "       [0.16666667, 0.45833333, 0.08474576, 0.        ],\n",
              "       [0.30555556, 0.70833333, 0.08474576, 0.04166667],\n",
              "       [0.13888889, 0.58333333, 0.10169492, 0.04166667],\n",
              "       [0.13888889, 0.41666667, 0.06779661, 0.        ],\n",
              "       [0.        , 0.41666667, 0.01694915, 0.        ],\n",
              "       [0.41666667, 0.83333333, 0.03389831, 0.04166667],\n",
              "       [0.38888889, 1.        , 0.08474576, 0.125     ],\n",
              "       [0.30555556, 0.79166667, 0.05084746, 0.125     ],\n",
              "       [0.22222222, 0.625     , 0.06779661, 0.08333333],\n",
              "       [0.38888889, 0.75      , 0.11864407, 0.08333333],\n",
              "       [0.22222222, 0.75      , 0.08474576, 0.08333333],\n",
              "       [0.30555556, 0.58333333, 0.11864407, 0.04166667],\n",
              "       [0.22222222, 0.70833333, 0.08474576, 0.125     ],\n",
              "       [0.08333333, 0.66666667, 0.        , 0.04166667],\n",
              "       [0.22222222, 0.54166667, 0.11864407, 0.16666667],\n",
              "       [0.13888889, 0.58333333, 0.15254237, 0.04166667],\n",
              "       [0.19444444, 0.41666667, 0.10169492, 0.04166667],\n",
              "       [0.19444444, 0.58333333, 0.10169492, 0.125     ],\n",
              "       [0.25      , 0.625     , 0.08474576, 0.04166667],\n",
              "       [0.25      , 0.58333333, 0.06779661, 0.04166667],\n",
              "       [0.11111111, 0.5       , 0.10169492, 0.04166667],\n",
              "       [0.13888889, 0.45833333, 0.10169492, 0.04166667],\n",
              "       [0.30555556, 0.58333333, 0.08474576, 0.125     ],\n",
              "       [0.25      , 0.875     , 0.08474576, 0.        ],\n",
              "       [0.33333333, 0.91666667, 0.06779661, 0.04166667],\n",
              "       [0.16666667, 0.45833333, 0.08474576, 0.        ],\n",
              "       [0.19444444, 0.5       , 0.03389831, 0.04166667],\n",
              "       [0.33333333, 0.625     , 0.05084746, 0.04166667],\n",
              "       [0.16666667, 0.45833333, 0.08474576, 0.        ],\n",
              "       [0.02777778, 0.41666667, 0.05084746, 0.04166667],\n",
              "       [0.22222222, 0.58333333, 0.08474576, 0.04166667],\n",
              "       [0.19444444, 0.625     , 0.05084746, 0.08333333],\n",
              "       [0.05555556, 0.125     , 0.05084746, 0.08333333],\n",
              "       [0.02777778, 0.5       , 0.05084746, 0.04166667],\n",
              "       [0.19444444, 0.625     , 0.10169492, 0.20833333],\n",
              "       [0.22222222, 0.75      , 0.15254237, 0.125     ],\n",
              "       [0.13888889, 0.41666667, 0.06779661, 0.08333333],\n",
              "       [0.22222222, 0.75      , 0.10169492, 0.04166667],\n",
              "       [0.08333333, 0.5       , 0.06779661, 0.04166667],\n",
              "       [0.27777778, 0.70833333, 0.08474576, 0.04166667],\n",
              "       [0.19444444, 0.54166667, 0.06779661, 0.04166667],\n",
              "       [0.75      , 0.5       , 0.62711864, 0.54166667],\n",
              "       [0.58333333, 0.5       , 0.59322034, 0.58333333],\n",
              "       [0.72222222, 0.45833333, 0.66101695, 0.58333333],\n",
              "       [0.33333333, 0.125     , 0.50847458, 0.5       ],\n",
              "       [0.61111111, 0.33333333, 0.61016949, 0.58333333],\n",
              "       [0.38888889, 0.33333333, 0.59322034, 0.5       ],\n",
              "       [0.55555556, 0.54166667, 0.62711864, 0.625     ],\n",
              "       [0.16666667, 0.16666667, 0.38983051, 0.375     ],\n",
              "       [0.63888889, 0.375     , 0.61016949, 0.5       ],\n",
              "       [0.25      , 0.29166667, 0.49152542, 0.54166667],\n",
              "       [0.19444444, 0.        , 0.42372881, 0.375     ],\n",
              "       [0.44444444, 0.41666667, 0.54237288, 0.58333333],\n",
              "       [0.47222222, 0.08333333, 0.50847458, 0.375     ],\n",
              "       [0.5       , 0.375     , 0.62711864, 0.54166667],\n",
              "       [0.36111111, 0.375     , 0.44067797, 0.5       ],\n",
              "       [0.66666667, 0.45833333, 0.57627119, 0.54166667],\n",
              "       [0.36111111, 0.41666667, 0.59322034, 0.58333333],\n",
              "       [0.41666667, 0.29166667, 0.52542373, 0.375     ],\n",
              "       [0.52777778, 0.08333333, 0.59322034, 0.58333333],\n",
              "       [0.36111111, 0.20833333, 0.49152542, 0.41666667],\n",
              "       [0.44444444, 0.5       , 0.6440678 , 0.70833333],\n",
              "       [0.5       , 0.33333333, 0.50847458, 0.5       ],\n",
              "       [0.55555556, 0.20833333, 0.66101695, 0.58333333],\n",
              "       [0.5       , 0.33333333, 0.62711864, 0.45833333],\n",
              "       [0.58333333, 0.375     , 0.55932203, 0.5       ],\n",
              "       [0.63888889, 0.41666667, 0.57627119, 0.54166667],\n",
              "       [0.69444444, 0.33333333, 0.6440678 , 0.54166667],\n",
              "       [0.66666667, 0.41666667, 0.6779661 , 0.66666667],\n",
              "       [0.47222222, 0.375     , 0.59322034, 0.58333333],\n",
              "       [0.38888889, 0.25      , 0.42372881, 0.375     ],\n",
              "       [0.33333333, 0.16666667, 0.47457627, 0.41666667],\n",
              "       [0.33333333, 0.16666667, 0.45762712, 0.375     ],\n",
              "       [0.41666667, 0.29166667, 0.49152542, 0.45833333],\n",
              "       [0.47222222, 0.29166667, 0.69491525, 0.625     ],\n",
              "       [0.30555556, 0.41666667, 0.59322034, 0.58333333],\n",
              "       [0.47222222, 0.58333333, 0.59322034, 0.625     ],\n",
              "       [0.66666667, 0.45833333, 0.62711864, 0.58333333],\n",
              "       [0.55555556, 0.125     , 0.57627119, 0.5       ],\n",
              "       [0.36111111, 0.41666667, 0.52542373, 0.5       ],\n",
              "       [0.33333333, 0.20833333, 0.50847458, 0.5       ],\n",
              "       [0.33333333, 0.25      , 0.57627119, 0.45833333],\n",
              "       [0.5       , 0.41666667, 0.61016949, 0.54166667],\n",
              "       [0.41666667, 0.25      , 0.50847458, 0.45833333],\n",
              "       [0.19444444, 0.125     , 0.38983051, 0.375     ],\n",
              "       [0.36111111, 0.29166667, 0.54237288, 0.5       ],\n",
              "       [0.38888889, 0.41666667, 0.54237288, 0.45833333],\n",
              "       [0.38888889, 0.375     , 0.54237288, 0.5       ],\n",
              "       [0.52777778, 0.375     , 0.55932203, 0.5       ],\n",
              "       [0.22222222, 0.20833333, 0.33898305, 0.41666667],\n",
              "       [0.38888889, 0.33333333, 0.52542373, 0.5       ],\n",
              "       [0.55555556, 0.54166667, 0.84745763, 1.        ],\n",
              "       [0.41666667, 0.29166667, 0.69491525, 0.75      ],\n",
              "       [0.77777778, 0.41666667, 0.83050847, 0.83333333],\n",
              "       [0.55555556, 0.375     , 0.77966102, 0.70833333],\n",
              "       [0.61111111, 0.41666667, 0.81355932, 0.875     ],\n",
              "       [0.91666667, 0.41666667, 0.94915254, 0.83333333],\n",
              "       [0.16666667, 0.20833333, 0.59322034, 0.66666667],\n",
              "       [0.83333333, 0.375     , 0.89830508, 0.70833333],\n",
              "       [0.66666667, 0.20833333, 0.81355932, 0.70833333],\n",
              "       [0.80555556, 0.66666667, 0.86440678, 1.        ],\n",
              "       [0.61111111, 0.5       , 0.69491525, 0.79166667],\n",
              "       [0.58333333, 0.29166667, 0.72881356, 0.75      ],\n",
              "       [0.69444444, 0.41666667, 0.76271186, 0.83333333],\n",
              "       [0.38888889, 0.20833333, 0.6779661 , 0.79166667],\n",
              "       [0.41666667, 0.33333333, 0.69491525, 0.95833333],\n",
              "       [0.58333333, 0.5       , 0.72881356, 0.91666667],\n",
              "       [0.61111111, 0.41666667, 0.76271186, 0.70833333],\n",
              "       [0.94444444, 0.75      , 0.96610169, 0.875     ],\n",
              "       [0.94444444, 0.25      , 1.        , 0.91666667],\n",
              "       [0.47222222, 0.08333333, 0.6779661 , 0.58333333],\n",
              "       [0.72222222, 0.5       , 0.79661017, 0.91666667],\n",
              "       [0.36111111, 0.33333333, 0.66101695, 0.79166667],\n",
              "       [0.94444444, 0.33333333, 0.96610169, 0.79166667],\n",
              "       [0.55555556, 0.29166667, 0.66101695, 0.70833333],\n",
              "       [0.66666667, 0.54166667, 0.79661017, 0.83333333],\n",
              "       [0.80555556, 0.5       , 0.84745763, 0.70833333],\n",
              "       [0.52777778, 0.33333333, 0.6440678 , 0.70833333],\n",
              "       [0.5       , 0.41666667, 0.66101695, 0.70833333],\n",
              "       [0.58333333, 0.33333333, 0.77966102, 0.83333333],\n",
              "       [0.80555556, 0.41666667, 0.81355932, 0.625     ],\n",
              "       [0.86111111, 0.33333333, 0.86440678, 0.75      ],\n",
              "       [1.        , 0.75      , 0.91525424, 0.79166667],\n",
              "       [0.58333333, 0.33333333, 0.77966102, 0.875     ],\n",
              "       [0.55555556, 0.33333333, 0.69491525, 0.58333333],\n",
              "       [0.5       , 0.25      , 0.77966102, 0.54166667],\n",
              "       [0.94444444, 0.41666667, 0.86440678, 0.91666667],\n",
              "       [0.55555556, 0.58333333, 0.77966102, 0.95833333],\n",
              "       [0.58333333, 0.45833333, 0.76271186, 0.70833333],\n",
              "       [0.47222222, 0.41666667, 0.6440678 , 0.70833333],\n",
              "       [0.72222222, 0.45833333, 0.74576271, 0.83333333],\n",
              "       [0.66666667, 0.45833333, 0.77966102, 0.95833333],\n",
              "       [0.72222222, 0.45833333, 0.69491525, 0.91666667],\n",
              "       [0.41666667, 0.29166667, 0.69491525, 0.75      ],\n",
              "       [0.69444444, 0.5       , 0.83050847, 0.91666667],\n",
              "       [0.66666667, 0.54166667, 0.79661017, 1.        ],\n",
              "       [0.66666667, 0.41666667, 0.71186441, 0.91666667],\n",
              "       [0.55555556, 0.20833333, 0.6779661 , 0.75      ],\n",
              "       [0.61111111, 0.41666667, 0.71186441, 0.79166667],\n",
              "       [0.52777778, 0.58333333, 0.74576271, 0.91666667],\n",
              "       [0.44444444, 0.41666667, 0.69491525, 0.70833333]])"
            ]
          },
          "metadata": {},
          "execution_count": 11
        }
      ]
    },
    {
      "cell_type": "code",
      "source": [
        "X_train, X_test, Y_train, Y_test = train_test_split(X_scale, y, test_size=0.3)"
      ],
      "metadata": {
        "id": "u-cgqKivmSmv"
      },
      "execution_count": null,
      "outputs": []
    },
    {
      "cell_type": "code",
      "source": [
        "model = Sequential([    \n",
        "                    Dense(64, activation='relu', input_shape=(4,)),    \n",
        "                    Dense(64, activation='relu'),    \n",
        "                    Dense(3, activation='sigmoid'),])"
      ],
      "metadata": {
        "id": "2SYi-YefmSp2"
      },
      "execution_count": null,
      "outputs": []
    },
    {
      "cell_type": "code",
      "source": [
        "model.compile(optimizer='Adam',\n",
        "              loss='categorical_crossentropy',\n",
        "              metrics=['accuracy'])"
      ],
      "metadata": {
        "id": "0aTBJ7mOmSss"
      },
      "execution_count": null,
      "outputs": []
    },
    {
      "cell_type": "code",
      "source": [
        "hist = model.fit(X_train, Y_train, epochs=100)"
      ],
      "metadata": {
        "id": "y3Bg1rTMmSv8",
        "outputId": "9ad3b97c-4951-4296-f6b7-d35d51d102a5",
        "colab": {
          "base_uri": "https://localhost:8080/"
        }
      },
      "execution_count": null,
      "outputs": [
        {
          "output_type": "stream",
          "name": "stdout",
          "text": [
            "Epoch 1/100\n",
            "4/4 [==============================] - 1s 6ms/step - loss: 1.1139 - accuracy: 0.4095\n",
            "Epoch 2/100\n",
            "4/4 [==============================] - 0s 4ms/step - loss: 1.0646 - accuracy: 0.5905\n",
            "Epoch 3/100\n",
            "4/4 [==============================] - 0s 3ms/step - loss: 1.0257 - accuracy: 0.6000\n",
            "Epoch 4/100\n",
            "4/4 [==============================] - 0s 4ms/step - loss: 0.9922 - accuracy: 0.6000\n",
            "Epoch 5/100\n",
            "4/4 [==============================] - 0s 3ms/step - loss: 0.9661 - accuracy: 0.6000\n",
            "Epoch 6/100\n",
            "4/4 [==============================] - 0s 3ms/step - loss: 0.9422 - accuracy: 0.6000\n",
            "Epoch 7/100\n",
            "4/4 [==============================] - 0s 3ms/step - loss: 0.9191 - accuracy: 0.6000\n",
            "Epoch 8/100\n",
            "4/4 [==============================] - 0s 3ms/step - loss: 0.8960 - accuracy: 0.6000\n",
            "Epoch 9/100\n",
            "4/4 [==============================] - 0s 4ms/step - loss: 0.8722 - accuracy: 0.6000\n",
            "Epoch 10/100\n",
            "4/4 [==============================] - 0s 3ms/step - loss: 0.8483 - accuracy: 0.6095\n",
            "Epoch 11/100\n",
            "4/4 [==============================] - 0s 4ms/step - loss: 0.8233 - accuracy: 0.6095\n",
            "Epoch 12/100\n",
            "4/4 [==============================] - 0s 4ms/step - loss: 0.7995 - accuracy: 0.6000\n",
            "Epoch 13/100\n",
            "4/4 [==============================] - 0s 3ms/step - loss: 0.7740 - accuracy: 0.6190\n",
            "Epoch 14/100\n",
            "4/4 [==============================] - 0s 5ms/step - loss: 0.7481 - accuracy: 0.6476\n",
            "Epoch 15/100\n",
            "4/4 [==============================] - 0s 5ms/step - loss: 0.7238 - accuracy: 0.6857\n",
            "Epoch 16/100\n",
            "4/4 [==============================] - 0s 4ms/step - loss: 0.6984 - accuracy: 0.7048\n",
            "Epoch 17/100\n",
            "4/4 [==============================] - 0s 3ms/step - loss: 0.6743 - accuracy: 0.6857\n",
            "Epoch 18/100\n",
            "4/4 [==============================] - 0s 4ms/step - loss: 0.6501 - accuracy: 0.6762\n",
            "Epoch 19/100\n",
            "4/4 [==============================] - 0s 3ms/step - loss: 0.6257 - accuracy: 0.6857\n",
            "Epoch 20/100\n",
            "4/4 [==============================] - 0s 4ms/step - loss: 0.6039 - accuracy: 0.7524\n",
            "Epoch 21/100\n",
            "4/4 [==============================] - 0s 4ms/step - loss: 0.5830 - accuracy: 0.8667\n",
            "Epoch 22/100\n",
            "4/4 [==============================] - 0s 4ms/step - loss: 0.5632 - accuracy: 0.8286\n",
            "Epoch 23/100\n",
            "4/4 [==============================] - 0s 3ms/step - loss: 0.5464 - accuracy: 0.7714\n",
            "Epoch 24/100\n",
            "4/4 [==============================] - 0s 3ms/step - loss: 0.5282 - accuracy: 0.7905\n",
            "Epoch 25/100\n",
            "4/4 [==============================] - 0s 3ms/step - loss: 0.5119 - accuracy: 0.9048\n",
            "Epoch 26/100\n",
            "4/4 [==============================] - 0s 3ms/step - loss: 0.5000 - accuracy: 0.9619\n",
            "Epoch 27/100\n",
            "4/4 [==============================] - 0s 4ms/step - loss: 0.4876 - accuracy: 0.9429\n",
            "Epoch 28/100\n",
            "4/4 [==============================] - 0s 3ms/step - loss: 0.4730 - accuracy: 0.9619\n",
            "Epoch 29/100\n",
            "4/4 [==============================] - 0s 4ms/step - loss: 0.4585 - accuracy: 0.9619\n",
            "Epoch 30/100\n",
            "4/4 [==============================] - 0s 3ms/step - loss: 0.4463 - accuracy: 0.9524\n",
            "Epoch 31/100\n",
            "4/4 [==============================] - 0s 4ms/step - loss: 0.4345 - accuracy: 0.9333\n",
            "Epoch 32/100\n",
            "4/4 [==============================] - 0s 4ms/step - loss: 0.4230 - accuracy: 0.9238\n",
            "Epoch 33/100\n",
            "4/4 [==============================] - 0s 3ms/step - loss: 0.4144 - accuracy: 0.9048\n",
            "Epoch 34/100\n",
            "4/4 [==============================] - 0s 3ms/step - loss: 0.4024 - accuracy: 0.9238\n",
            "Epoch 35/100\n",
            "4/4 [==============================] - 0s 3ms/step - loss: 0.3887 - accuracy: 0.9619\n",
            "Epoch 36/100\n",
            "4/4 [==============================] - 0s 3ms/step - loss: 0.3778 - accuracy: 0.9619\n",
            "Epoch 37/100\n",
            "4/4 [==============================] - 0s 4ms/step - loss: 0.3661 - accuracy: 0.9619\n",
            "Epoch 38/100\n",
            "4/4 [==============================] - 0s 4ms/step - loss: 0.3568 - accuracy: 0.9429\n",
            "Epoch 39/100\n",
            "4/4 [==============================] - 0s 3ms/step - loss: 0.3475 - accuracy: 0.9524\n",
            "Epoch 40/100\n",
            "4/4 [==============================] - 0s 4ms/step - loss: 0.3351 - accuracy: 0.9619\n",
            "Epoch 41/100\n",
            "4/4 [==============================] - 0s 3ms/step - loss: 0.3250 - accuracy: 0.9619\n",
            "Epoch 42/100\n",
            "4/4 [==============================] - 0s 3ms/step - loss: 0.3177 - accuracy: 0.9619\n",
            "Epoch 43/100\n",
            "4/4 [==============================] - 0s 4ms/step - loss: 0.3046 - accuracy: 0.9619\n",
            "Epoch 44/100\n",
            "4/4 [==============================] - 0s 3ms/step - loss: 0.2989 - accuracy: 0.9429\n",
            "Epoch 45/100\n",
            "4/4 [==============================] - 0s 3ms/step - loss: 0.2872 - accuracy: 0.9429\n",
            "Epoch 46/100\n",
            "4/4 [==============================] - 0s 3ms/step - loss: 0.2822 - accuracy: 0.9524\n",
            "Epoch 47/100\n",
            "4/4 [==============================] - 0s 3ms/step - loss: 0.2713 - accuracy: 0.9619\n",
            "Epoch 48/100\n",
            "4/4 [==============================] - 0s 3ms/step - loss: 0.2609 - accuracy: 0.9524\n",
            "Epoch 49/100\n",
            "4/4 [==============================] - 0s 3ms/step - loss: 0.2541 - accuracy: 0.9619\n",
            "Epoch 50/100\n",
            "4/4 [==============================] - 0s 3ms/step - loss: 0.2465 - accuracy: 0.9619\n",
            "Epoch 51/100\n",
            "4/4 [==============================] - 0s 5ms/step - loss: 0.2364 - accuracy: 0.9619\n",
            "Epoch 52/100\n",
            "4/4 [==============================] - 0s 4ms/step - loss: 0.2283 - accuracy: 0.9619\n",
            "Epoch 53/100\n",
            "4/4 [==============================] - 0s 3ms/step - loss: 0.2229 - accuracy: 0.9524\n",
            "Epoch 54/100\n",
            "4/4 [==============================] - 0s 3ms/step - loss: 0.2145 - accuracy: 0.9524\n",
            "Epoch 55/100\n",
            "4/4 [==============================] - 0s 3ms/step - loss: 0.2077 - accuracy: 0.9524\n",
            "Epoch 56/100\n",
            "4/4 [==============================] - 0s 3ms/step - loss: 0.2027 - accuracy: 0.9619\n",
            "Epoch 57/100\n",
            "4/4 [==============================] - 0s 4ms/step - loss: 0.1948 - accuracy: 0.9524\n",
            "Epoch 58/100\n",
            "4/4 [==============================] - 0s 3ms/step - loss: 0.1912 - accuracy: 0.9429\n",
            "Epoch 59/100\n",
            "4/4 [==============================] - 0s 3ms/step - loss: 0.1846 - accuracy: 0.9429\n",
            "Epoch 60/100\n",
            "4/4 [==============================] - 0s 3ms/step - loss: 0.1798 - accuracy: 0.9619\n",
            "Epoch 61/100\n",
            "4/4 [==============================] - 0s 3ms/step - loss: 0.1755 - accuracy: 0.9619\n",
            "Epoch 62/100\n",
            "4/4 [==============================] - 0s 3ms/step - loss: 0.1721 - accuracy: 0.9619\n",
            "Epoch 63/100\n",
            "4/4 [==============================] - 0s 3ms/step - loss: 0.1666 - accuracy: 0.9619\n",
            "Epoch 64/100\n",
            "4/4 [==============================] - 0s 3ms/step - loss: 0.1618 - accuracy: 0.9619\n",
            "Epoch 65/100\n",
            "4/4 [==============================] - 0s 5ms/step - loss: 0.1580 - accuracy: 0.9619\n",
            "Epoch 66/100\n",
            "4/4 [==============================] - 0s 4ms/step - loss: 0.1562 - accuracy: 0.9619\n",
            "Epoch 67/100\n",
            "4/4 [==============================] - 0s 5ms/step - loss: 0.1508 - accuracy: 0.9619\n",
            "Epoch 68/100\n",
            "4/4 [==============================] - 0s 3ms/step - loss: 0.1474 - accuracy: 0.9619\n",
            "Epoch 69/100\n",
            "4/4 [==============================] - 0s 3ms/step - loss: 0.1466 - accuracy: 0.9619\n",
            "Epoch 70/100\n",
            "4/4 [==============================] - 0s 4ms/step - loss: 0.1425 - accuracy: 0.9619\n",
            "Epoch 71/100\n",
            "4/4 [==============================] - 0s 3ms/step - loss: 0.1370 - accuracy: 0.9714\n",
            "Epoch 72/100\n",
            "4/4 [==============================] - 0s 3ms/step - loss: 0.1391 - accuracy: 0.9524\n",
            "Epoch 73/100\n",
            "4/4 [==============================] - 0s 4ms/step - loss: 0.1339 - accuracy: 0.9619\n",
            "Epoch 74/100\n",
            "4/4 [==============================] - 0s 4ms/step - loss: 0.1289 - accuracy: 0.9714\n",
            "Epoch 75/100\n",
            "4/4 [==============================] - 0s 3ms/step - loss: 0.1310 - accuracy: 0.9619\n",
            "Epoch 76/100\n",
            "4/4 [==============================] - 0s 3ms/step - loss: 0.1343 - accuracy: 0.9619\n",
            "Epoch 77/100\n",
            "4/4 [==============================] - 0s 3ms/step - loss: 0.1247 - accuracy: 0.9619\n",
            "Epoch 78/100\n",
            "4/4 [==============================] - 0s 4ms/step - loss: 0.1218 - accuracy: 0.9714\n",
            "Epoch 79/100\n",
            "4/4 [==============================] - 0s 4ms/step - loss: 0.1232 - accuracy: 0.9524\n",
            "Epoch 80/100\n",
            "4/4 [==============================] - 0s 3ms/step - loss: 0.1201 - accuracy: 0.9714\n",
            "Epoch 81/100\n",
            "4/4 [==============================] - 0s 3ms/step - loss: 0.1183 - accuracy: 0.9619\n",
            "Epoch 82/100\n",
            "4/4 [==============================] - 0s 3ms/step - loss: 0.1143 - accuracy: 0.9619\n",
            "Epoch 83/100\n",
            "4/4 [==============================] - 0s 3ms/step - loss: 0.1208 - accuracy: 0.9524\n",
            "Epoch 84/100\n",
            "4/4 [==============================] - 0s 3ms/step - loss: 0.1186 - accuracy: 0.9619\n",
            "Epoch 85/100\n",
            "4/4 [==============================] - 0s 3ms/step - loss: 0.1098 - accuracy: 0.9619\n",
            "Epoch 86/100\n",
            "4/4 [==============================] - 0s 3ms/step - loss: 0.1094 - accuracy: 0.9619\n",
            "Epoch 87/100\n",
            "4/4 [==============================] - 0s 4ms/step - loss: 0.1058 - accuracy: 0.9714\n",
            "Epoch 88/100\n",
            "4/4 [==============================] - 0s 4ms/step - loss: 0.1060 - accuracy: 0.9714\n",
            "Epoch 89/100\n",
            "4/4 [==============================] - 0s 4ms/step - loss: 0.1088 - accuracy: 0.9619\n",
            "Epoch 90/100\n",
            "4/4 [==============================] - 0s 3ms/step - loss: 0.1057 - accuracy: 0.9619\n",
            "Epoch 91/100\n",
            "4/4 [==============================] - 0s 4ms/step - loss: 0.0981 - accuracy: 0.9714\n",
            "Epoch 92/100\n",
            "4/4 [==============================] - 0s 4ms/step - loss: 0.1119 - accuracy: 0.9714\n",
            "Epoch 93/100\n",
            "4/4 [==============================] - 0s 3ms/step - loss: 0.1079 - accuracy: 0.9714\n",
            "Epoch 94/100\n",
            "4/4 [==============================] - 0s 4ms/step - loss: 0.1003 - accuracy: 0.9619\n",
            "Epoch 95/100\n",
            "4/4 [==============================] - 0s 4ms/step - loss: 0.0988 - accuracy: 0.9714\n",
            "Epoch 96/100\n",
            "4/4 [==============================] - 0s 4ms/step - loss: 0.0966 - accuracy: 0.9714\n",
            "Epoch 97/100\n",
            "4/4 [==============================] - 0s 4ms/step - loss: 0.0960 - accuracy: 0.9619\n",
            "Epoch 98/100\n",
            "4/4 [==============================] - 0s 4ms/step - loss: 0.0952 - accuracy: 0.9714\n",
            "Epoch 99/100\n",
            "4/4 [==============================] - 0s 3ms/step - loss: 0.0940 - accuracy: 0.9619\n",
            "Epoch 100/100\n",
            "4/4 [==============================] - 0s 4ms/step - loss: 0.0996 - accuracy: 0.9619\n"
          ]
        }
      ]
    },
    {
      "cell_type": "code",
      "source": [
        "model.evaluate(X_test, Y_test)"
      ],
      "metadata": {
        "id": "NJikzrX7zQAz",
        "outputId": "feca12de-fb4e-4e46-f223-3661952011b5",
        "colab": {
          "base_uri": "https://localhost:8080/"
        }
      },
      "execution_count": null,
      "outputs": [
        {
          "output_type": "stream",
          "name": "stdout",
          "text": [
            "2/2 [==============================] - 0s 7ms/step - loss: 0.0628 - accuracy: 0.9778\n"
          ]
        },
        {
          "output_type": "execute_result",
          "data": {
            "text/plain": [
              "[0.06279096752405167, 0.9777777791023254]"
            ]
          },
          "metadata": {},
          "execution_count": 16
        }
      ]
    },
    {
      "cell_type": "markdown",
      "source": [
        "## Plot Loss dan Akurasi dari Trained Model"
      ],
      "metadata": {
        "id": "XK_dzUpsxuhq"
      }
    },
    {
      "cell_type": "code",
      "source": [
        "import matplotlib.pyplot as plt"
      ],
      "metadata": {
        "id": "HYunFEFvmSzH"
      },
      "execution_count": null,
      "outputs": []
    },
    {
      "cell_type": "code",
      "source": [
        "plt.plot(hist.history['loss'])\n",
        "plt.title('Model loss')\n",
        "plt.ylabel('Loss')\n",
        "plt.xlabel('Epoch')\n",
        "plt.legend(['Train'], loc='upper right')\n",
        "plt.show()"
      ],
      "metadata": {
        "id": "bBma_W6smS18",
        "outputId": "76e9a6c0-dbc4-4337-ba94-23ce6fe7fb32",
        "colab": {
          "base_uri": "https://localhost:8080/",
          "height": 295
        }
      },
      "execution_count": null,
      "outputs": [
        {
          "output_type": "display_data",
          "data": {
            "text/plain": [
              "<Figure size 432x288 with 1 Axes>"
            ],
            "image/png": "[encoded data removed]"
          },
          "metadata": {
            "needs_background": "light"
          }
        }
      ]
    },
    {
      "cell_type": "code",
      "source": [
        "plt.plot(hist.history['accuracy'])\n",
        "plt.title('Model accuracy')\n",
        "plt.ylabel('Accuracy')\n",
        "plt.xlabel('Epoch')\n",
        "plt.legend(['Train'], loc='lower right')\n",
        "plt.show()"
      ],
      "metadata": {
        "id": "v8oj0cNCmS5M",
        "outputId": "041ef50b-4ad8-44ce-a8f6-711aa29eb011",
        "colab": {
          "base_uri": "https://localhost:8080/",
          "height": 295
        }
      },
      "execution_count": null,
      "outputs": [
        {
          "output_type": "display_data",
          "data": {
            "text/plain": [
              "<Figure size 432x288 with 1 Axes>"
            ],
            "image/png": "[encoded data removed]"
          },
          "metadata": {
            "needs_background": "light"
          }
        }
      ]
    },
    {
      "cell_type": "markdown",
      "source": [
        "## Penggunaan Callbacks"
      ],
      "metadata": {
        "id": "LLlwkPwtzY3C"
      }
    },
    {
      "cell_type": "code",
      "source": [
        "# import library\n",
        "import tensorflow as tf\n",
        "import pandas as pd\n",
        "from sklearn import preprocessing\n",
        "from sklearn.model_selection import train_test_split\n",
        "from keras.models import Sequential\n",
        "from keras.layers import Dense"
      ],
      "metadata": {
        "id": "V7UJ2LZhmS8d"
      },
      "execution_count": null,
      "outputs": []
    },
    {
      "cell_type": "code",
      "source": [
        "# berfungsi untuk memanggil dataset dari gdrive\n",
        "from google.colab import drive\n",
        "drive.mount('/content/drive')\n",
        "import sys\n",
        "sys.path.append('/content/drive/My Drive/Colab Notebooks/Dicoding py')"
      ],
      "metadata": {
        "id": "NsrPjKbnmS_S",
        "outputId": "f2e582a3-6ed2-4e43-d792-5df63f837254",
        "colab": {
          "base_uri": "https://localhost:8080/"
        }
      },
      "execution_count": null,
      "outputs": [
        {
          "output_type": "stream",
          "name": "stdout",
          "text": [
            "Drive already mounted at /content/drive; to attempt to forcibly remount, call drive.mount(\"/content/drive\", force_remount=True).\n"
          ]
        }
      ]
    },
    {
      "cell_type": "code",
      "source": [
        "df = pd.read_csv('/content/drive/My Drive/Colab Notebooks/Dicoding py/Iris.csv')\n",
        "df"
      ],
      "metadata": {
        "id": "b9jF4Ugb6NTa",
        "outputId": "7cf55011-e970-4e97-e8ed-09045ce6ec51",
        "colab": {
          "base_uri": "https://localhost:8080/",
          "height": 424
        }
      },
      "execution_count": null,
      "outputs": [
        {
          "output_type": "execute_result",
          "data": {
            "text/plain": [
              "      Id  SepalLengthCm  SepalWidthCm  PetalLengthCm  PetalWidthCm  \\\n",
              "0      1            5.1           3.5            1.4           0.2   \n",
              "1      2            4.9           3.0            1.4           0.2   \n",
              "2      3            4.7           3.2            1.3           0.2   \n",
              "3      4            4.6           3.1            1.5           0.2   \n",
              "4      5            5.0           3.6            1.4           0.2   \n",
              "..   ...            ...           ...            ...           ...   \n",
              "145  146            6.7           3.0            5.2           2.3   \n",
              "146  147            6.3           2.5            5.0           1.9   \n",
              "147  148            6.5           3.0            5.2           2.0   \n",
              "148  149            6.2           3.4            5.4           2.3   \n",
              "149  150            5.9           3.0            5.1           1.8   \n",
              "\n",
              "            Species  \n",
              "0       Iris-setosa  \n",
              "1       Iris-setosa  \n",
              "2       Iris-setosa  \n",
              "3       Iris-setosa  \n",
              "4       Iris-setosa  \n",
              "..              ...  \n",
              "145  Iris-virginica  \n",
              "146  Iris-virginica  \n",
              "147  Iris-virginica  \n",
              "148  Iris-virginica  \n",
              "149  Iris-virginica  \n",
              "\n",
              "[150 rows x 6 columns]"
            ],
            "text/html": [
              "\n",
              "  <div id=\"df-aafaff39-18ae-4b03-8a54-037e32a3c617\">\n",
              "    <div class=\"colab-df-container\">\n",
              "      <div>\n",
              "<style scoped>\n",
              "    .dataframe tbody tr th:only-of-type {\n",
              "        vertical-align: middle;\n",
              "    }\n",
              "\n",
              "    .dataframe tbody tr th {\n",
              "        vertical-align: top;\n",
              "    }\n",
              "\n",
              "    .dataframe thead th {\n",
              "        text-align: right;\n",
              "    }\n",
              "</style>\n",
              "<table border=\"1\" class=\"dataframe\">\n",
              "  <thead>\n",
              "    <tr style=\"text-align: right;\">\n",
              "      <th></th>\n",
              "      <th>Id</th>\n",
              "      <th>SepalLengthCm</th>\n",
              "      <th>SepalWidthCm</th>\n",
              "      <th>PetalLengthCm</th>\n",
              "      <th>PetalWidthCm</th>\n",
              "      <th>Species</th>\n",
              "    </tr>\n",
              "  </thead>\n",
              "  <tbody>\n",
              "    <tr>\n",
              "      <th>0</th>\n",
              "      <td>1</td>\n",
              "      <td>5.1</td>\n",
              "      <td>3.5</td>\n",
              "      <td>1.4</td>\n",
              "      <td>0.2</td>\n",
              "      <td>Iris-setosa</td>\n",
              "    </tr>\n",
              "    <tr>\n",
              "      <th>1</th>\n",
              "      <td>2</td>\n",
              "      <td>4.9</td>\n",
              "      <td>3.0</td>\n",
              "      <td>1.4</td>\n",
              "      <td>0.2</td>\n",
              "      <td>Iris-setosa</td>\n",
              "    </tr>\n",
              "    <tr>\n",
              "      <th>2</th>\n",
              "      <td>3</td>\n",
              "      <td>4.7</td>\n",
              "      <td>3.2</td>\n",
              "      <td>1.3</td>\n",
              "      <td>0.2</td>\n",
              "      <td>Iris-setosa</td>\n",
              "    </tr>\n",
              "    <tr>\n",
              "      <th>3</th>\n",
              "      <td>4</td>\n",
              "      <td>4.6</td>\n",
              "      <td>3.1</td>\n",
              "      <td>1.5</td>\n",
              "      <td>0.2</td>\n",
              "      <td>Iris-setosa</td>\n",
              "    </tr>\n",
              "    <tr>\n",
              "      <th>4</th>\n",
              "      <td>5</td>\n",
              "      <td>5.0</td>\n",
              "      <td>3.6</td>\n",
              "      <td>1.4</td>\n",
              "      <td>0.2</td>\n",
              "      <td>Iris-setosa</td>\n",
              "    </tr>\n",
              "    <tr>\n",
              "      <th>...</th>\n",
              "      <td>...</td>\n",
              "      <td>...</td>\n",
              "      <td>...</td>\n",
              "      <td>...</td>\n",
              "      <td>...</td>\n",
              "      <td>...</td>\n",
              "    </tr>\n",
              "    <tr>\n",
              "      <th>145</th>\n",
              "      <td>146</td>\n",
              "      <td>6.7</td>\n",
              "      <td>3.0</td>\n",
              "      <td>5.2</td>\n",
              "      <td>2.3</td>\n",
              "      <td>Iris-virginica</td>\n",
              "    </tr>\n",
              "    <tr>\n",
              "      <th>146</th>\n",
              "      <td>147</td>\n",
              "      <td>6.3</td>\n",
              "      <td>2.5</td>\n",
              "      <td>5.0</td>\n",
              "      <td>1.9</td>\n",
              "      <td>Iris-virginica</td>\n",
              "    </tr>\n",
              "    <tr>\n",
              "      <th>147</th>\n",
              "      <td>148</td>\n",
              "      <td>6.5</td>\n",
              "      <td>3.0</td>\n",
              "      <td>5.2</td>\n",
              "      <td>2.0</td>\n",
              "      <td>Iris-virginica</td>\n",
              "    </tr>\n",
              "    <tr>\n",
              "      <th>148</th>\n",
              "      <td>149</td>\n",
              "      <td>6.2</td>\n",
              "      <td>3.4</td>\n",
              "      <td>5.4</td>\n",
              "      <td>2.3</td>\n",
              "      <td>Iris-virginica</td>\n",
              "    </tr>\n",
              "    <tr>\n",
              "      <th>149</th>\n",
              "      <td>150</td>\n",
              "      <td>5.9</td>\n",
              "      <td>3.0</td>\n",
              "      <td>5.1</td>\n",
              "      <td>1.8</td>\n",
              "      <td>Iris-virginica</td>\n",
              "    </tr>\n",
              "  </tbody>\n",
              "</table>\n",
              "<p>150 rows × 6 columns</p>\n",
              "</div>\n",
              "      <button class=\"colab-df-convert\" onclick=\"convertToInteractive('df-aafaff39-18ae-4b03-8a54-037e32a3c617')\"\n",
              "              title=\"Convert this dataframe to an interactive table.\"\n",
              "              style=\"display:none;\">\n",
              "        \n",
              "  <svg xmlns=\"http://www.w3.org/2000/svg\" height=\"24px\"viewBox=\"0 0 24 24\"\n",
              "       width=\"24px\">\n",
              "    <path d=\"M0 0h24v24H0V0z\" fill=\"none\"/>\n",
              "    <path d=\"M18.56 5.44l.94 2.06.94-2.06 2.06-.94-2.06-.94-.94-2.06-.94 2.06-2.06.94zm-11 1L8.5 8.5l.94-2.06 2.06-.94-2.06-.94L8.5 2.5l-.94 2.06-2.06.94zm10 10l.94 2.06.94-2.06 2.06-.94-2.06-.94-.94-2.06-.94 2.06-2.06.94z\"/><path d=\"M17.41 7.96l-1.37-1.37c-.4-.4-.92-.59-1.43-.59-.52 0-1.04.2-1.43.59L10.3 9.45l-7.72 7.72c-.78.78-.78 2.05 0 2.83L4 21.41c.39.39.9.59 1.41.59.51 0 1.02-.2 1.41-.59l7.78-7.78 2.81-2.81c.8-.78.8-2.07 0-2.86zM5.41 20L4 18.59l7.72-7.72 1.47 1.35L5.41 20z\"/>\n",
              "  </svg>\n",
              "      </button>\n",
              "      \n",
              "  <style>\n",
              "    .colab-df-container {\n",
              "      display:flex;\n",
              "      flex-wrap:wrap;\n",
              "      gap: 12px;\n",
              "    }\n",
              "\n",
              "    .colab-df-convert {\n",
              "      background-color: #E8F0FE;\n",
              "      border: none;\n",
              "      border-radius: 50%;\n",
              "      cursor: pointer;\n",
              "      display: none;\n",
              "      fill: #1967D2;\n",
              "      height: 32px;\n",
              "      padding: 0 0 0 0;\n",
              "      width: 32px;\n",
              "    }\n",
              "\n",
              "    .colab-df-convert:hover {\n",
              "      background-color: #E2EBFA;\n",
              "      box-shadow: 0px 1px 2px rgba(60, 64, 67, 0.3), 0px 1px 3px 1px rgba(60, 64, 67, 0.15);\n",
              "      fill: #174EA6;\n",
              "    }\n",
              "\n",
              "    [theme=dark] .colab-df-convert {\n",
              "      background-color: #3B4455;\n",
              "      fill: #D2E3FC;\n",
              "    }\n",
              "\n",
              "    [theme=dark] .colab-df-convert:hover {\n",
              "      background-color: #434B5C;\n",
              "      box-shadow: 0px 1px 3px 1px rgba(0, 0, 0, 0.15);\n",
              "      filter: drop-shadow(0px 1px 2px rgba(0, 0, 0, 0.3));\n",
              "      fill: #FFFFFF;\n",
              "    }\n",
              "  </style>\n",
              "\n",
              "      <script>\n",
              "        const buttonEl =\n",
              "          document.querySelector('#df-aafaff39-18ae-4b03-8a54-037e32a3c617 button.colab-df-convert');\n",
              "        buttonEl.style.display =\n",
              "          google.colab.kernel.accessAllowed ? 'block' : 'none';\n",
              "\n",
              "        async function convertToInteractive(key) {\n",
              "          const element = document.querySelector('#df-aafaff39-18ae-4b03-8a54-037e32a3c617');\n",
              "          const dataTable =\n",
              "            await google.colab.kernel.invokeFunction('convertToInteractive',\n",
              "                                                     [key], {});\n",
              "          if (!dataTable) return;\n",
              "\n",
              "          const docLinkHtml = 'Like what you see? Visit the ' +\n",
              "            '<a target=\"_blank\" href=https://colab.research.google.com/notebooks/data_table.ipynb>data table notebook</a>'\n",
              "            + ' to learn more about interactive tables.';\n",
              "          element.innerHTML = '';\n",
              "          dataTable['output_type'] = 'display_data';\n",
              "          await google.colab.output.renderOutput(dataTable, element);\n",
              "          const docLink = document.createElement('div');\n",
              "          docLink.innerHTML = docLinkHtml;\n",
              "          element.appendChild(docLink);\n",
              "        }\n",
              "      </script>\n",
              "    </div>\n",
              "  </div>\n",
              "  "
            ]
          },
          "metadata": {},
          "execution_count": 21
        }
      ]
    },
    {
      "cell_type": "code",
      "source": [
        "df = df.drop(columns='Id')\n",
        "category = pd.get_dummies(df.Species)\n",
        "new_df = pd.concat([df, category], axis=1)\n",
        "new_df = new_df.drop(columns='Species')\n",
        "dataset = new_df.values\n",
        "X = dataset[:,0:4]\n",
        "y = dataset[:,4:7]\n",
        "min_max_scaler = preprocessing.MinMaxScaler()\n",
        "X_scale = min_max_scaler.fit_transform(X)\n",
        "X_train, X_test, Y_train, Y_test = train_test_split(X_scale, y, test_size=0.3)\n",
        "model = Sequential([    \n",
        "                    Dense(64, activation='relu', input_shape=(4,)),    \n",
        "                    Dense(64, activation='relu'),    \n",
        "                    Dense(3, activation='softmax'),])\n",
        "model.compile(optimizer='Adam',\n",
        "              loss='categorical_crossentropy',\n",
        "              metrics=['accuracy'])"
      ],
      "metadata": {
        "id": "1HLp80XC6Na4"
      },
      "execution_count": null,
      "outputs": []
    },
    {
      "cell_type": "code",
      "source": [
        "# selanjutnya membuat kelas callback\n",
        "class myCallback(tf.keras.callbacks.Callback):\n",
        "  def on_epoch_end(self, epoch, logs={}):\n",
        "    if(logs.get('accuracy')>0.9):\n",
        "      print(\"\\nAkurasi telah mencapai >90%!\")\n",
        "      self.model.stop_training = True\n",
        "callbacks = myCallback()"
      ],
      "metadata": {
        "id": "tQ91OkIg6Ngw"
      },
      "execution_count": null,
      "outputs": []
    },
    {
      "cell_type": "code",
      "source": [
        "model.fit(X_train, Y_train, epochs=50, callbacks=[callbacks])"
      ],
      "metadata": {
        "id": "Mh1m2iA96Nmg",
        "outputId": "68c30c70-a277-41d0-88c5-47473dcade54",
        "colab": {
          "base_uri": "https://localhost:8080/"
        }
      },
      "execution_count": null,
      "outputs": [
        {
          "output_type": "stream",
          "name": "stdout",
          "text": [
            "Epoch 1/50\n",
            "4/4 [==============================] - 1s 4ms/step - loss: 1.0662 - accuracy: 0.4190\n",
            "Epoch 2/50\n",
            "4/4 [==============================] - 0s 4ms/step - loss: 1.0254 - accuracy: 0.6571\n",
            "Epoch 3/50\n",
            "4/4 [==============================] - 0s 4ms/step - loss: 0.9915 - accuracy: 0.6571\n",
            "Epoch 4/50\n",
            "4/4 [==============================] - 0s 4ms/step - loss: 0.9612 - accuracy: 0.6571\n",
            "Epoch 5/50\n",
            "4/4 [==============================] - 0s 4ms/step - loss: 0.9303 - accuracy: 0.6571\n",
            "Epoch 6/50\n",
            "4/4 [==============================] - 0s 5ms/step - loss: 0.8992 - accuracy: 0.6667\n",
            "Epoch 7/50\n",
            "4/4 [==============================] - 0s 3ms/step - loss: 0.8667 - accuracy: 0.6667\n",
            "Epoch 8/50\n",
            "4/4 [==============================] - 0s 4ms/step - loss: 0.8350 - accuracy: 0.6667\n",
            "Epoch 9/50\n",
            "4/4 [==============================] - 0s 3ms/step - loss: 0.8013 - accuracy: 0.6667\n",
            "Epoch 10/50\n",
            "4/4 [==============================] - 0s 5ms/step - loss: 0.7676 - accuracy: 0.6667\n",
            "Epoch 11/50\n",
            "4/4 [==============================] - 0s 3ms/step - loss: 0.7346 - accuracy: 0.6667\n",
            "Epoch 12/50\n",
            "4/4 [==============================] - 0s 7ms/step - loss: 0.7029 - accuracy: 0.6667\n",
            "Epoch 13/50\n",
            "4/4 [==============================] - 0s 4ms/step - loss: 0.6722 - accuracy: 0.6667\n",
            "Epoch 14/50\n",
            "4/4 [==============================] - 0s 4ms/step - loss: 0.6432 - accuracy: 0.6667\n",
            "Epoch 15/50\n",
            "4/4 [==============================] - 0s 4ms/step - loss: 0.6175 - accuracy: 0.6667\n",
            "Epoch 16/50\n",
            "4/4 [==============================] - 0s 4ms/step - loss: 0.5935 - accuracy: 0.6667\n",
            "Epoch 17/50\n",
            "4/4 [==============================] - 0s 4ms/step - loss: 0.5708 - accuracy: 0.6667\n",
            "Epoch 18/50\n",
            "4/4 [==============================] - 0s 5ms/step - loss: 0.5498 - accuracy: 0.6667\n",
            "Epoch 19/50\n",
            "4/4 [==============================] - 0s 4ms/step - loss: 0.5313 - accuracy: 0.6667\n",
            "Epoch 20/50\n",
            "4/4 [==============================] - 0s 4ms/step - loss: 0.5128 - accuracy: 0.6667\n",
            "Epoch 21/50\n",
            "4/4 [==============================] - 0s 5ms/step - loss: 0.4961 - accuracy: 0.6667\n",
            "Epoch 22/50\n",
            "4/4 [==============================] - 0s 3ms/step - loss: 0.4835 - accuracy: 0.6667\n",
            "Epoch 23/50\n",
            "4/4 [==============================] - 0s 4ms/step - loss: 0.4724 - accuracy: 0.6667\n",
            "Epoch 24/50\n",
            "4/4 [==============================] - 0s 6ms/step - loss: 0.4617 - accuracy: 0.6667\n",
            "Epoch 25/50\n",
            "4/4 [==============================] - 0s 5ms/step - loss: 0.4516 - accuracy: 0.6762\n",
            "Epoch 26/50\n",
            "4/4 [==============================] - 0s 4ms/step - loss: 0.4414 - accuracy: 0.6857\n",
            "Epoch 27/50\n",
            "4/4 [==============================] - 0s 4ms/step - loss: 0.4320 - accuracy: 0.7429\n",
            "Epoch 28/50\n",
            "4/4 [==============================] - 0s 5ms/step - loss: 0.4208 - accuracy: 0.8571\n",
            "Epoch 29/50\n",
            "4/4 [==============================] - 0s 5ms/step - loss: 0.4118 - accuracy: 0.8952\n",
            "Epoch 30/50\n",
            "4/4 [==============================] - 0s 4ms/step - loss: 0.4030 - accuracy: 0.8952\n",
            "Epoch 31/50\n",
            "1/4 [======>.......................] - ETA: 0s - loss: 0.3530 - accuracy: 0.9688\n",
            "Akurasi telah mencapai >90%!\n",
            "4/4 [==============================] - 0s 4ms/step - loss: 0.3930 - accuracy: 0.9048\n"
          ]
        },
        {
          "output_type": "execute_result",
          "data": {
            "text/plain": [
              "<keras.callbacks.History at 0x7f1c31ea0820>"
            ]
          },
          "metadata": {},
          "execution_count": 29
        }
      ]
    },
    {
      "cell_type": "markdown",
      "source": [
        "## Menggunakan Dataset dari tf.data.datasets"
      ],
      "metadata": {
        "id": "wSG9Osd7-YV_"
      }
    },
    {
      "cell_type": "code",
      "source": [
        "import tensorflow as tf\n",
        "print(tf.__version__)"
      ],
      "metadata": {
        "id": "J4rm2OSD6Nr9",
        "outputId": "b173bd33-1805-4b1c-de31-265a03e0b1fa",
        "colab": {
          "base_uri": "https://localhost:8080/"
        }
      },
      "execution_count": null,
      "outputs": [
        {
          "output_type": "stream",
          "name": "stdout",
          "text": [
            "2.11.0\n"
          ]
        }
      ]
    },
    {
      "cell_type": "code",
      "source": [
        "mnist = tf.keras.datasets.mnist"
      ],
      "metadata": {
        "id": "xYwh4Yoo6NxS"
      },
      "execution_count": null,
      "outputs": []
    },
    {
      "cell_type": "code",
      "source": [
        "(gambar_latih, label_latih), (gambar_testing, label_testing) = mnist.load_data()"
      ],
      "metadata": {
        "id": "KcL0ag7k6N3Q",
        "outputId": "04aeca7f-f795-46ef-958f-a696e5cb0f1e",
        "colab": {
          "base_uri": "https://localhost:8080/"
        }
      },
      "execution_count": null,
      "outputs": [
        {
          "output_type": "stream",
          "name": "stdout",
          "text": [
            "Downloading data from https://storage.googleapis.com/tensorflow/tf-keras-datasets/mnist.npz\n",
            "11490434/11490434 [==============================] - 0s 0us/step\n"
          ]
        }
      ]
    },
    {
      "cell_type": "code",
      "source": [
        "import numpy as np\n",
        "np.set_printoptions(linewidth=200)\n",
        "import matplotlib.pyplot as plt\n",
        "plt.imshow(gambar_latih[0])\n",
        "print(label_latih[0])"
      ],
      "metadata": {
        "id": "PXkbbwW26OJn",
        "outputId": "8a45de77-e606-4543-fa9c-85109e57ab24",
        "colab": {
          "base_uri": "https://localhost:8080/",
          "height": 282
        }
      },
      "execution_count": null,
      "outputs": [
        {
          "output_type": "stream",
          "name": "stdout",
          "text": [
            "5\n"
          ]
        },
        {
          "output_type": "display_data",
          "data": {
            "text/plain": [
              "<Figure size 432x288 with 1 Axes>"
            ],
            "image/png": "[encoded data removed]"
          },
          "metadata": {
            "needs_background": "light"
          }
        }
      ]
    },
    {
      "cell_type": "code",
      "source": [
        "gambar_latih  = gambar_latih / 255.0\n",
        "gambar_testing = gambar_testing / 255.0"
      ],
      "metadata": {
        "id": "ZeFDgCjl6OPx"
      },
      "execution_count": null,
      "outputs": []
    },
    {
      "cell_type": "code",
      "source": [
        "model = tf.keras.models.Sequential([tf.keras.layers.Flatten(input_shape=(28,28)), \n",
        "                                    tf.keras.layers.Dense(128, activation=tf.nn.relu), \n",
        "                                    tf.keras.layers.Dense(10, activation=tf.nn.softmax)])"
      ],
      "metadata": {
        "id": "AdilJ0dR6OWY"
      },
      "execution_count": null,
      "outputs": []
    },
    {
      "cell_type": "code",
      "source": [
        "model.compile(optimizer = tf.optimizers.Adam(),\n",
        "              loss = 'sparse_categorical_crossentropy',\n",
        "              metrics=['accuracy'])\n",
        "model.fit(gambar_latih, label_latih, epochs=5)"
      ],
      "metadata": {
        "id": "I2ctIcP_AlHg",
        "outputId": "04c2f503-449c-4a7e-c00c-84f6eeb23d96",
        "colab": {
          "base_uri": "https://localhost:8080/"
        }
      },
      "execution_count": null,
      "outputs": [
        {
          "output_type": "stream",
          "name": "stdout",
          "text": [
            "Epoch 1/5\n",
            "1875/1875 [==============================] - 10s 4ms/step - loss: 0.2629 - accuracy: 0.9247\n",
            "Epoch 2/5\n",
            "1875/1875 [==============================] - 8s 4ms/step - loss: 0.1147 - accuracy: 0.9659\n",
            "Epoch 3/5\n",
            "1875/1875 [==============================] - 6s 3ms/step - loss: 0.0783 - accuracy: 0.9769\n",
            "Epoch 4/5\n",
            "1875/1875 [==============================] - 7s 4ms/step - loss: 0.0587 - accuracy: 0.9814\n",
            "Epoch 5/5\n",
            "1875/1875 [==============================] - 8s 4ms/step - loss: 0.0451 - accuracy: 0.9861\n"
          ]
        },
        {
          "output_type": "execute_result",
          "data": {
            "text/plain": [
              "<keras.callbacks.History at 0x7f1c31c5db20>"
            ]
          },
          "metadata": {},
          "execution_count": 36
        }
      ]
    },
    {
      "cell_type": "markdown",
      "source": [
        "## Penggunaan Batch Loading"
      ],
      "metadata": {
        "id": "mt1g32CzdctY"
      }
    },
    {
      "cell_type": "code",
      "source": [
        "# dataset dan sintak sama seperti modul diatas\n",
        "import tensorflow as tf\n",
        "mnist = tf.keras.datasets.mnist\n",
        "(training_images, training_labels), (test_images, test_labels) = mnist.load_data()\n",
        "training_images  = training_images / 255.0\n",
        "test_images = test_images / 255.0\n",
        "model = tf.keras.models.Sequential([tf.keras.layers.Flatten(input_shape=(28,28)), \n",
        "                                    tf.keras.layers.Dense(128, activation=tf.nn.relu), \n",
        "                                    tf.keras.layers.Dense(10, activation=tf.nn.softmax)])\n",
        "model.compile(optimizer = tf.optimizers.Adam(),\n",
        "              loss = 'sparse_categorical_crossentropy',\n",
        "              metrics=['accuracy'])"
      ],
      "metadata": {
        "id": "iVgWCyngAlPm"
      },
      "execution_count": null,
      "outputs": []
    },
    {
      "cell_type": "code",
      "source": [
        "# jika menggunakan batch size 32 (defalult) maka waktu yang dihabiskan berkisar 5-10 detik\n",
        "model.fit(training_images, training_labels, batch_size=32, epochs=5)"
      ],
      "metadata": {
        "id": "UV381bAQAlV2",
        "outputId": "b8fadede-ec90-4adc-a836-772d1c9bfc03",
        "colab": {
          "base_uri": "https://localhost:8080/"
        }
      },
      "execution_count": null,
      "outputs": [
        {
          "output_type": "stream",
          "name": "stdout",
          "text": [
            "Epoch 1/5\n",
            "1875/1875 [==============================] - 7s 4ms/step - loss: 0.0338 - accuracy: 0.9897\n",
            "Epoch 2/5\n",
            "1875/1875 [==============================] - 8s 5ms/step - loss: 0.0266 - accuracy: 0.9916\n",
            "Epoch 3/5\n",
            "1875/1875 [==============================] - 6s 3ms/step - loss: 0.0220 - accuracy: 0.9932\n",
            "Epoch 4/5\n",
            "1875/1875 [==============================] - 8s 4ms/step - loss: 0.0171 - accuracy: 0.9948\n",
            "Epoch 5/5\n",
            "1875/1875 [==============================] - 6s 3ms/step - loss: 0.0142 - accuracy: 0.9956\n"
          ]
        },
        {
          "output_type": "execute_result",
          "data": {
            "text/plain": [
              "<keras.callbacks.History at 0x7f1c31a3b9a0>"
            ]
          },
          "metadata": {},
          "execution_count": 39
        }
      ]
    },
    {
      "cell_type": "code",
      "source": [
        "# jika menggunakan batch size 128 maka waktu proses yang di jalankan menjadi lebih cepat\n",
        "model.fit(training_images, training_labels, batch_size=128, epochs=5)"
      ],
      "metadata": {
        "id": "78jlecmmAlbu",
        "outputId": "39d69392-f39b-4994-cc47-503f24f6e6e0",
        "colab": {
          "base_uri": "https://localhost:8080/"
        }
      },
      "execution_count": null,
      "outputs": [
        {
          "output_type": "stream",
          "name": "stdout",
          "text": [
            "Epoch 1/5\n",
            "469/469 [==============================] - 2s 4ms/step - loss: 0.0054 - accuracy: 0.9989\n",
            "Epoch 2/5\n",
            "469/469 [==============================] - 3s 7ms/step - loss: 0.0033 - accuracy: 0.9996\n",
            "Epoch 3/5\n",
            "469/469 [==============================] - 2s 5ms/step - loss: 0.0027 - accuracy: 0.9998\n",
            "Epoch 4/5\n",
            "469/469 [==============================] - 2s 4ms/step - loss: 0.0023 - accuracy: 0.9999\n",
            "Epoch 5/5\n",
            "469/469 [==============================] - 2s 4ms/step - loss: 0.0022 - accuracy: 0.9999\n"
          ]
        },
        {
          "output_type": "execute_result",
          "data": {
            "text/plain": [
              "<keras.callbacks.History at 0x7f1c319c88b0>"
            ]
          },
          "metadata": {},
          "execution_count": 40
        }
      ]
    },
    {
      "cell_type": "markdown",
      "source": [
        "# kualisifikasi gambar"
      ],
      "metadata": {
        "id": "RC-HwoFNhWuh"
      }
    },
    {
      "cell_type": "markdown",
      "source": [
        "## Membuat dan Melatih Model untuk Memproses Dataset Gambar dari Dunia Nyata"
      ],
      "metadata": {
        "id": "zjXT5-Th5uBS"
      }
    },
    {
      "cell_type": "code",
      "source": [
        "# melakukan proses unduh data\n",
        "!wget --no-check-certificate \\\n",
        "    https://github.com/dicodingacademy/assets/raw/main/ml_pengembangan_academy/Chessman-image-dataset.zip \\\n",
        "    -O /tmp/Chessman-image-dataset.zip"
      ],
      "metadata": {
        "id": "8scs2aDIhXgA",
        "outputId": "8be2fa22-58fc-4874-fca9-32598587a844",
        "colab": {
          "base_uri": "https://localhost:8080/"
        }
      },
      "execution_count": 1,
      "outputs": [
        {
          "output_type": "stream",
          "name": "stdout",
          "text": [
            "--2023-02-14 12:32:03--  https://github.com/dicodingacademy/assets/raw/main/ml_pengembangan_academy/Chessman-image-dataset.zip\n",
            "Resolving github.com (github.com)... 140.82.121.4\n",
            "Connecting to github.com (github.com)|140.82.121.4|:443... connected.\n",
            "HTTP request sent, awaiting response... 302 Found\n",
            "Location: https://raw.githubusercontent.com/dicodingacademy/assets/main/ml_pengembangan_academy/Chessman-image-dataset.zip [following]\n",
            "--2023-02-14 12:32:03--  https://raw.githubusercontent.com/dicodingacademy/assets/main/ml_pengembangan_academy/Chessman-image-dataset.zip\n",
            "Resolving raw.githubusercontent.com (raw.githubusercontent.com)... 185.199.108.133, 185.199.109.133, 185.199.110.133, ...\n",
            "Connecting to raw.githubusercontent.com (raw.githubusercontent.com)|185.199.108.133|:443... connected.\n",
            "HTTP request sent, awaiting response... 200 OK\n",
            "Length: 60684125 (58M) [application/zip]\n",
            "Saving to: ‘/tmp/Chessman-image-dataset.zip’\n",
            "\n",
            "/tmp/Chessman-image 100%[===================>]  57.87M   276MB/s    in 0.2s    \n",
            "\n",
            "2023-02-14 12:32:08 (276 MB/s) - ‘/tmp/Chessman-image-dataset.zip’ saved [60684125/60684125]\n",
            "\n"
          ]
        }
      ]
    },
    {
      "cell_type": "code",
      "source": [
        "# proses ekstrak dataset \n",
        "import os\n",
        "import zipfile\n",
        "local_zip = '/tmp/Chessman-image-dataset.zip'\n",
        "zip_ref = zipfile.ZipFile(local_zip, 'r')\n",
        "zip_ref.extractall('/tmp')\n",
        "zip_ref.close()"
      ],
      "metadata": {
        "id": "ExOWfoY5hXnQ"
      },
      "execution_count": 2,
      "outputs": []
    },
    {
      "cell_type": "code",
      "source": [
        "# gunakan direktori os.listdir untuk melihat direktori yang terdapat saat ini\n",
        "os.listdir('/tmp/Chessman-image-dataset/Chess')"
      ],
      "metadata": {
        "id": "PacpLYzKhXtQ",
        "outputId": "4960bb4e-2f1b-465b-ab98-b6fcc3c1afe7",
        "colab": {
          "base_uri": "https://localhost:8080/"
        }
      },
      "execution_count": 3,
      "outputs": [
        {
          "output_type": "execute_result",
          "data": {
            "text/plain": [
              "['Rook', 'King', 'Bishop', 'Pawn', 'Knight', 'Queen']"
            ]
          },
          "metadata": {},
          "execution_count": 3
        }
      ]
    },
    {
      "cell_type": "code",
      "source": [
        "# Selanjutnya kita perlu melihat berapa banyak gambar pada setiap direktori\n",
        "print('total pawn images :', len(os.listdir('/tmp/Chessman-image-dataset/Chess/Pawn')))\n",
        "print('total King images :', len(os.listdir('/tmp/Chessman-image-dataset/Chess/King')))\n",
        "print('total Knight images :', len(os.listdir('/tmp/Chessman-image-dataset/Chess/Knight')))"
      ],
      "metadata": {
        "id": "79QOhEUFhXzI",
        "outputId": "ac0e0839-f915-4d44-c050-317527fca2bb",
        "colab": {
          "base_uri": "https://localhost:8080/"
        }
      },
      "execution_count": 4,
      "outputs": [
        {
          "output_type": "stream",
          "name": "stdout",
          "text": [
            "total pawn images : 107\n",
            "total King images : 76\n",
            "total Knight images : 106\n"
          ]
        }
      ]
    },
    {
      "cell_type": "code",
      "source": [
        "# Kita dapat melihat contoh dari sebuah gambar pada dataset dengan menjalankan kode di bawah.\n",
        "from tensorflow.keras.preprocessing import image\n",
        "import matplotlib.pyplot as plt\n",
        "import matplotlib.image as mpimg\n",
        "%matplotlib inline\n",
        "img = image.load_img('/tmp/Chessman-image-dataset/Chess/King/00000145.png')\n",
        "imgplot = plt.imshow(img)"
      ],
      "metadata": {
        "id": "04-kcLZohX4U",
        "outputId": "1e13d61f-6f0e-4caa-e9ae-55b887cc40a5",
        "colab": {
          "base_uri": "https://localhost:8080/",
          "height": 240
        }
      },
      "execution_count": 5,
      "outputs": [
        {
          "output_type": "display_data",
          "data": {
            "text/plain": [
              "<Figure size 432x288 with 1 Axes>"
            ],
            "image/png": "[encoded data removed]"
          },
          "metadata": {
            "needs_background": "light"
          }
        }
      ]
    },
    {
      "cell_type": "code",
      "source": [
        "# Selanjutnya kita impor ImageDataGenerator dan aplikasikan augmentasi gambar pada dataset kita\n",
        "from tensorflow.keras.preprocessing.image import ImageDataGenerator\n",
        " \n",
        " \n",
        "train_dir = os.path.join('/tmp/Chessman-image-dataset/Chess')\n",
        "train_datagen = ImageDataGenerator(rescale=1./255,\n",
        "    rotation_range=20,\n",
        "    zoom_range=0.2,\n",
        "    shear_range=0.2,\n",
        "    fill_mode = 'nearest',\n",
        "    validation_split=0.1) # set validation split"
      ],
      "metadata": {
        "id": "bR-k2sEyhX95"
      },
      "execution_count": 6,
      "outputs": []
    },
    {
      "cell_type": "code",
      "source": [
        "# dengan image data generator akan membagi data menjadi training dan testing\n",
        "train_generator = train_datagen.flow_from_directory(\n",
        "    train_dir,\n",
        "    target_size=(150, 150),\n",
        "    batch_size=8,\n",
        "    class_mode='categorical',\n",
        "    subset='training') # set as training data\n",
        "validation_generator = train_datagen.flow_from_directory(\n",
        "    train_dir, # same directory as training data\n",
        "    target_size=(150, 150),\n",
        "    batch_size=16,\n",
        "    class_mode='categorical',\n",
        "    subset='validation')"
      ],
      "metadata": {
        "id": "aanrD1jEhYDZ",
        "outputId": "e7fc4d17-9ce1-494a-f869-8d0b54c00f0d",
        "colab": {
          "base_uri": "https://localhost:8080/"
        }
      },
      "execution_count": 9,
      "outputs": [
        {
          "output_type": "stream",
          "name": "stdout",
          "text": [
            "Found 499 images belonging to 6 classes.\n",
            "Found 52 images belonging to 6 classes.\n"
          ]
        }
      ]
    },
    {
      "cell_type": "code",
      "source": [
        "# Selanjutnya, kita buat arsitektur dari model kita. Untuk model ini kita \n",
        "# menggunakan 3 lapis convolution dan 2 hidden layer dengan 512 dan 256 buah unit perseptron.\n",
        "import tensorflow as tf\n",
        "model = tf.keras.models.Sequential([\n",
        "    # Note the input shape is the desired size of the image 150x150 with 3 bytes color\n",
        "    tf.keras.layers.Conv2D(64, (3,3), activation='relu', input_shape=(150, 150, 3)),\n",
        "    tf.keras.layers.MaxPooling2D(2,2),\n",
        "    tf.keras.layers.Conv2D(32, (3,3), activation='relu'),\n",
        "    tf.keras.layers.MaxPooling2D(2,2),\n",
        "    tf.keras.layers.Dropout(0.4),  \n",
        "    tf.keras.layers.Conv2D(64, (3,3), activation='relu'), \n",
        "    tf.keras.layers.MaxPooling2D(2,2),\n",
        "    tf.keras.layers.Dropout(0.4),  \n",
        "    # Flatten the results to feed into a DNN\n",
        "    tf.keras.layers.Flatten(), \n",
        "    # 512 neuron hidden layer\n",
        "    tf.keras.layers.Dense(512, activation='relu'),\n",
        "    tf.keras.layers.Dense(256, activation='relu'),\n",
        "    tf.keras.layers.Dense(6, activation='softmax')  \n",
        "])"
      ],
      "metadata": {
        "id": "UBo0JSa0hYJw"
      },
      "execution_count": 11,
      "outputs": []
    },
    {
      "cell_type": "code",
      "source": [
        "# Setelah arsitektur dibuat, tentukan optimizer dan loss yang akan digunakan model\n",
        "model.compile(optimizer=tf.optimizers.Adam(),\n",
        "              loss='categorical_crossentropy',\n",
        "              metrics = ['accuracy'])\n",
        "\n",
        "# Terakhir, panggil fungsi fit untuk melatih model kita.\n",
        "history = model.fit(train_generator,\n",
        "                              validation_data=validation_generator,\n",
        "                              epochs=50,\n",
        "                              verbose=2)"
      ],
      "metadata": {
        "id": "mk546mkjhYRP",
        "outputId": "01ed2bbb-391e-40af-8ef5-bf17ed04e50f",
        "colab": {
          "base_uri": "https://localhost:8080/"
        }
      },
      "execution_count": 12,
      "outputs": [
        {
          "output_type": "stream",
          "name": "stdout",
          "text": [
            "Epoch 1/50\n",
            "63/63 - 34s - loss: 1.8225 - accuracy: 0.1844 - val_loss: 1.7888 - val_accuracy: 0.1731 - 34s/epoch - 540ms/step\n",
            "Epoch 2/50\n",
            "63/63 - 32s - loss: 1.8014 - accuracy: 0.1884 - val_loss: 1.7831 - val_accuracy: 0.1923 - 32s/epoch - 505ms/step\n",
            "Epoch 3/50\n",
            "63/63 - 32s - loss: 1.7920 - accuracy: 0.1864 - val_loss: 1.7831 - val_accuracy: 0.1923 - 32s/epoch - 511ms/step\n",
            "Epoch 4/50\n",
            "63/63 - 33s - loss: 1.7852 - accuracy: 0.1864 - val_loss: 1.7787 - val_accuracy: 0.2308 - 33s/epoch - 519ms/step\n",
            "Epoch 5/50\n",
            "63/63 - 31s - loss: 1.7866 - accuracy: 0.2024 - val_loss: 1.7816 - val_accuracy: 0.2308 - 31s/epoch - 489ms/step\n",
            "Epoch 6/50\n",
            "63/63 - 32s - loss: 1.7517 - accuracy: 0.2124 - val_loss: 1.7233 - val_accuracy: 0.2885 - 32s/epoch - 502ms/step\n",
            "Epoch 7/50\n",
            "63/63 - 31s - loss: 1.7175 - accuracy: 0.2365 - val_loss: 1.6789 - val_accuracy: 0.2500 - 31s/epoch - 485ms/step\n",
            "Epoch 8/50\n",
            "63/63 - 32s - loss: 1.6832 - accuracy: 0.2926 - val_loss: 1.7142 - val_accuracy: 0.2308 - 32s/epoch - 510ms/step\n",
            "Epoch 9/50\n",
            "63/63 - 30s - loss: 1.6531 - accuracy: 0.2866 - val_loss: 1.6595 - val_accuracy: 0.3462 - 30s/epoch - 479ms/step\n",
            "Epoch 10/50\n",
            "63/63 - 32s - loss: 1.5816 - accuracy: 0.3607 - val_loss: 1.7042 - val_accuracy: 0.3077 - 32s/epoch - 515ms/step\n",
            "Epoch 11/50\n",
            "63/63 - 32s - loss: 1.5546 - accuracy: 0.3427 - val_loss: 1.5564 - val_accuracy: 0.2885 - 32s/epoch - 511ms/step\n",
            "Epoch 12/50\n",
            "63/63 - 32s - loss: 1.5371 - accuracy: 0.4128 - val_loss: 1.5434 - val_accuracy: 0.3654 - 32s/epoch - 505ms/step\n",
            "Epoch 13/50\n",
            "63/63 - 33s - loss: 1.4995 - accuracy: 0.3988 - val_loss: 1.5060 - val_accuracy: 0.4423 - 33s/epoch - 524ms/step\n",
            "Epoch 14/50\n",
            "63/63 - 32s - loss: 1.4540 - accuracy: 0.4329 - val_loss: 1.5182 - val_accuracy: 0.4423 - 32s/epoch - 505ms/step\n",
            "Epoch 15/50\n",
            "63/63 - 32s - loss: 1.3787 - accuracy: 0.4569 - val_loss: 1.4542 - val_accuracy: 0.3269 - 32s/epoch - 508ms/step\n",
            "Epoch 16/50\n",
            "63/63 - 32s - loss: 1.3626 - accuracy: 0.4669 - val_loss: 1.3731 - val_accuracy: 0.4615 - 32s/epoch - 504ms/step\n",
            "Epoch 17/50\n",
            "63/63 - 33s - loss: 1.3492 - accuracy: 0.4749 - val_loss: 1.4818 - val_accuracy: 0.4038 - 33s/epoch - 523ms/step\n",
            "Epoch 18/50\n",
            "63/63 - 32s - loss: 1.2685 - accuracy: 0.4830 - val_loss: 1.3623 - val_accuracy: 0.4808 - 32s/epoch - 507ms/step\n",
            "Epoch 19/50\n",
            "63/63 - 32s - loss: 1.2090 - accuracy: 0.5291 - val_loss: 1.3841 - val_accuracy: 0.4423 - 32s/epoch - 500ms/step\n",
            "Epoch 20/50\n",
            "63/63 - 32s - loss: 1.1322 - accuracy: 0.5852 - val_loss: 1.4912 - val_accuracy: 0.4038 - 32s/epoch - 505ms/step\n",
            "Epoch 21/50\n",
            "63/63 - 33s - loss: 1.1207 - accuracy: 0.5711 - val_loss: 1.4576 - val_accuracy: 0.4231 - 33s/epoch - 523ms/step\n",
            "Epoch 22/50\n",
            "63/63 - 31s - loss: 1.0731 - accuracy: 0.5772 - val_loss: 1.3082 - val_accuracy: 0.4423 - 31s/epoch - 487ms/step\n",
            "Epoch 23/50\n",
            "63/63 - 32s - loss: 1.0580 - accuracy: 0.5992 - val_loss: 1.4737 - val_accuracy: 0.4038 - 32s/epoch - 514ms/step\n",
            "Epoch 24/50\n",
            "63/63 - 31s - loss: 1.0479 - accuracy: 0.6072 - val_loss: 1.4283 - val_accuracy: 0.4038 - 31s/epoch - 488ms/step\n",
            "Epoch 25/50\n",
            "63/63 - 33s - loss: 1.0198 - accuracy: 0.6253 - val_loss: 1.3800 - val_accuracy: 0.4615 - 33s/epoch - 517ms/step\n",
            "Epoch 26/50\n",
            "63/63 - 31s - loss: 1.0055 - accuracy: 0.6273 - val_loss: 1.3263 - val_accuracy: 0.4423 - 31s/epoch - 485ms/step\n",
            "Epoch 27/50\n",
            "63/63 - 32s - loss: 0.8921 - accuracy: 0.6593 - val_loss: 1.2606 - val_accuracy: 0.5577 - 32s/epoch - 515ms/step\n",
            "Epoch 28/50\n",
            "63/63 - 32s - loss: 0.8524 - accuracy: 0.6774 - val_loss: 1.6980 - val_accuracy: 0.3846 - 32s/epoch - 511ms/step\n",
            "Epoch 29/50\n",
            "63/63 - 31s - loss: 0.8020 - accuracy: 0.6914 - val_loss: 1.3664 - val_accuracy: 0.4231 - 31s/epoch - 498ms/step\n",
            "Epoch 30/50\n",
            "63/63 - 32s - loss: 0.8262 - accuracy: 0.6994 - val_loss: 1.3882 - val_accuracy: 0.4423 - 32s/epoch - 513ms/step\n",
            "Epoch 31/50\n",
            "63/63 - 31s - loss: 0.8302 - accuracy: 0.6693 - val_loss: 1.3739 - val_accuracy: 0.4808 - 31s/epoch - 495ms/step\n",
            "Epoch 32/50\n",
            "63/63 - 32s - loss: 0.7718 - accuracy: 0.7054 - val_loss: 1.1968 - val_accuracy: 0.5769 - 32s/epoch - 501ms/step\n",
            "Epoch 33/50\n",
            "63/63 - 32s - loss: 0.7071 - accuracy: 0.7375 - val_loss: 1.5728 - val_accuracy: 0.4808 - 32s/epoch - 502ms/step\n",
            "Epoch 34/50\n",
            "63/63 - 31s - loss: 0.7639 - accuracy: 0.7214 - val_loss: 1.4416 - val_accuracy: 0.4038 - 31s/epoch - 496ms/step\n",
            "Epoch 35/50\n",
            "63/63 - 31s - loss: 0.7014 - accuracy: 0.7435 - val_loss: 1.6989 - val_accuracy: 0.4808 - 31s/epoch - 492ms/step\n",
            "Epoch 36/50\n",
            "63/63 - 32s - loss: 0.6862 - accuracy: 0.7776 - val_loss: 1.2434 - val_accuracy: 0.5385 - 32s/epoch - 515ms/step\n",
            "Epoch 37/50\n",
            "63/63 - 31s - loss: 0.6995 - accuracy: 0.7675 - val_loss: 2.0224 - val_accuracy: 0.3269 - 31s/epoch - 488ms/step\n",
            "Epoch 38/50\n",
            "63/63 - 33s - loss: 0.6145 - accuracy: 0.7615 - val_loss: 1.4688 - val_accuracy: 0.5000 - 33s/epoch - 519ms/step\n",
            "Epoch 39/50\n",
            "63/63 - 32s - loss: 0.7069 - accuracy: 0.7495 - val_loss: 1.5285 - val_accuracy: 0.5192 - 32s/epoch - 507ms/step\n",
            "Epoch 40/50\n",
            "63/63 - 32s - loss: 0.6037 - accuracy: 0.7916 - val_loss: 1.6505 - val_accuracy: 0.5000 - 32s/epoch - 505ms/step\n",
            "Epoch 41/50\n",
            "63/63 - 32s - loss: 0.6092 - accuracy: 0.7776 - val_loss: 1.6154 - val_accuracy: 0.5000 - 32s/epoch - 505ms/step\n",
            "Epoch 42/50\n",
            "63/63 - 32s - loss: 0.6341 - accuracy: 0.7776 - val_loss: 1.3588 - val_accuracy: 0.5769 - 32s/epoch - 502ms/step\n",
            "Epoch 43/50\n",
            "63/63 - 32s - loss: 0.5921 - accuracy: 0.7896 - val_loss: 1.4020 - val_accuracy: 0.5385 - 32s/epoch - 510ms/step\n",
            "Epoch 44/50\n",
            "63/63 - 32s - loss: 0.4776 - accuracy: 0.8297 - val_loss: 1.7486 - val_accuracy: 0.4423 - 32s/epoch - 509ms/step\n",
            "Epoch 45/50\n",
            "63/63 - 33s - loss: 0.6708 - accuracy: 0.7535 - val_loss: 1.4730 - val_accuracy: 0.5192 - 33s/epoch - 523ms/step\n",
            "Epoch 46/50\n",
            "63/63 - 33s - loss: 0.5089 - accuracy: 0.8176 - val_loss: 1.4290 - val_accuracy: 0.5192 - 33s/epoch - 530ms/step\n",
            "Epoch 47/50\n",
            "63/63 - 32s - loss: 0.4572 - accuracy: 0.8196 - val_loss: 1.7674 - val_accuracy: 0.4423 - 32s/epoch - 510ms/step\n",
            "Epoch 48/50\n",
            "63/63 - 32s - loss: 0.5414 - accuracy: 0.8116 - val_loss: 1.5482 - val_accuracy: 0.4231 - 32s/epoch - 510ms/step\n",
            "Epoch 49/50\n",
            "63/63 - 32s - loss: 0.4816 - accuracy: 0.8337 - val_loss: 1.4040 - val_accuracy: 0.4615 - 32s/epoch - 507ms/step\n",
            "Epoch 50/50\n",
            "63/63 - 31s - loss: 0.4404 - accuracy: 0.8617 - val_loss: 1.4690 - val_accuracy: 0.4808 - 31s/epoch - 499ms/step\n"
          ]
        }
      ]
    },
    {
      "cell_type": "code",
      "source": [
        "# membuat plot akurasi dari model\n",
        "import matplotlib.pyplot as plt\n",
        "plt.plot(history.history['accuracy'])\n",
        "plt.plot(history.history['val_accuracy'])\n",
        "plt.title('Akurasi Model')\n",
        "plt.ylabel('accuracy')\n",
        "plt.xlabel('epoch')\n",
        "plt.legend(['train', 'test'], loc='upper left')\n",
        "plt.show()"
      ],
      "metadata": {
        "id": "sdrX4XJhhYXf",
        "outputId": "7478f6ab-e17f-484f-90b8-69d70754091b",
        "colab": {
          "base_uri": "https://localhost:8080/",
          "height": 295
        }
      },
      "execution_count": 13,
      "outputs": [
        {
          "output_type": "display_data",
          "data": {
            "text/plain": [
              "<Figure size 432x288 with 1 Axes>"
            ],
            "image/png": "[encoded data removed]"
          },
          "metadata": {
            "needs_background": "light"
          }
        }
      ]
    },
    {
      "cell_type": "code",
      "source": [
        "# membuat plot loss dari model\n",
        "plt.plot(history.history['loss'])\n",
        "plt.plot(history.history['val_loss'])\n",
        "plt.title('Loss Model')\n",
        "plt.ylabel('loss')\n",
        "plt.xlabel('epoch')\n",
        "plt.legend(['train', 'test'], loc='upper left')\n",
        "plt.show()"
      ],
      "metadata": {
        "id": "utvRdB_IhYfP",
        "outputId": "cb09616d-a1bf-4bab-f72e-1c5298e98663",
        "colab": {
          "base_uri": "https://localhost:8080/",
          "height": 295
        }
      },
      "execution_count": 14,
      "outputs": [
        {
          "output_type": "display_data",
          "data": {
            "text/plain": [
              "<Figure size 432x288 with 1 Axes>"
            ],
            "image/png": "[encoded data removed]"
          },
          "metadata": {
            "needs_background": "light"
          }
        }
      ]
    },
    {
      "cell_type": "markdown",
      "source": [
        "## "
      ],
      "metadata": {
        "id": "GIHVuKBbQkL1"
      }
    },
    {
      "cell_type": "code",
      "source": [],
      "metadata": {
        "id": "Lkzyv0MyAlhf"
      },
      "execution_count": null,
      "outputs": []
    },
    {
      "cell_type": "code",
      "source": [],
      "metadata": {
        "id": "9USzGIlSAlnH"
      },
      "execution_count": null,
      "outputs": []
    },
    {
      "cell_type": "code",
      "source": [],
      "metadata": {
        "id": "EDHXKFybAlte"
      },
      "execution_count": null,
      "outputs": []
    }
  ]
}